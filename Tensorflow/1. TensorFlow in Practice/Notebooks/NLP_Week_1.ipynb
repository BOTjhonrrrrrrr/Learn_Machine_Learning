{
  "nbformat": 4,
  "nbformat_minor": 0,
  "metadata": {
    "colab": {
      "name": "NLP_Week_1.ipynb",
      "provenance": [],
      "collapsed_sections": []
    },
    "kernelspec": {
      "name": "python3",
      "display_name": "Python 3"
    }
  },
  "cells": [
    {
      "cell_type": "code",
      "metadata": {
        "id": "s0eBzQjWxzhu",
        "colab_type": "code",
        "colab": {}
      },
      "source": [
        "!pip install tensorflow==2.0.0"
      ],
      "execution_count": 0,
      "outputs": []
    },
    {
      "cell_type": "code",
      "metadata": {
        "id": "mkITT4tCx5LW",
        "colab_type": "code",
        "colab": {}
      },
      "source": [
        "import tensorflow as tf\n",
        "from tensorflow.keras.preprocessing.text import Tokenizer\n",
        "from tensorflow.keras.preprocessing.sequence import pad_sequences"
      ],
      "execution_count": 0,
      "outputs": []
    },
    {
      "cell_type": "code",
      "metadata": {
        "id": "cWRJ1QTiyFbe",
        "colab_type": "code",
        "colab": {}
      },
      "source": [
        "sentences = ['I love my dog', \n",
        "             'I love my cat', \n",
        "             'You love my dog!',\n",
        "             'Do you think my dog is amazing?']"
      ],
      "execution_count": 0,
      "outputs": []
    },
    {
      "cell_type": "code",
      "metadata": {
        "id": "mFPnr7jHyWCr",
        "colab_type": "code",
        "colab": {
          "base_uri": "https://localhost:8080/",
          "height": 102
        },
        "outputId": "6ec0456c-e973-418b-f025-c29c1c33f0da"
      },
      "source": [
        "tokenizer = Tokenizer(num_words=100)\n",
        "tokenizer.fit_on_texts(sentences)\n",
        "word_index = tokenizer.word_index\n",
        "print(\"Word Index:\\n{}\".format(word_index))\n",
        "\n",
        "text_sequence = tokenizer.texts_to_sequences(sentences)\n",
        "print(\"\\nText Sequence:\\n{}\".format(text_sequence))"
      ],
      "execution_count": 5,
      "outputs": [
        {
          "output_type": "stream",
          "text": [
            "Word Index:\n",
            "{'my': 1, 'love': 2, 'dog': 3, 'i': 4, 'you': 5, 'cat': 6, 'do': 7, 'think': 8, 'is': 9, 'amazing': 10}\n",
            "\n",
            "Text Sequence:\n",
            "[[4, 2, 1, 3], [4, 2, 1, 6], [5, 2, 1, 3], [7, 5, 8, 1, 3, 9, 10]]\n"
          ],
          "name": "stdout"
        }
      ]
    },
    {
      "cell_type": "code",
      "metadata": {
        "id": "xnM1FWqky6c5",
        "colab_type": "code",
        "colab": {
          "base_uri": "https://localhost:8080/",
          "height": 51
        },
        "outputId": "6ea77477-b3d5-450c-bde2-07f927202f62"
      },
      "source": [
        "# Note if we want to make inferences, we need to tokenize the test set as well, but if in the test set we have words \n",
        "# that are not in the train set, we won't be able to tokenize those.\n",
        "\n",
        "test_sentences = ['i really love my dog', \n",
        "                  'My dog loves my shoes']\n",
        "\n",
        "test_sequence = tokenizer.texts_to_sequences(test_sentences)\n",
        "print(\"Test Sequence: \\n{}\".format(test_sequence))\n"
      ],
      "execution_count": 6,
      "outputs": [
        {
          "output_type": "stream",
          "text": [
            "Test Sequence: \n",
            "[[4, 2, 1, 3], [1, 3, 1]]\n"
          ],
          "name": "stdout"
        }
      ]
    },
    {
      "cell_type": "code",
      "metadata": {
        "id": "qRoX0JRSz6jL",
        "colab_type": "code",
        "colab": {
          "base_uri": "https://localhost:8080/",
          "height": 153
        },
        "outputId": "2d13e80d-a6e0-4c9b-9e88-e9d09fc9aea8"
      },
      "source": [
        "# One way to fix running into words not in the training dictionary when testing is by adding a unknown key word \n",
        "# when tokenizing which will replace the unknown word using the key word.\n",
        "\n",
        "tokenizer = Tokenizer(num_words=100, oov_token='<OOV>')\n",
        "tokenizer.fit_on_texts(sentences)\n",
        "word_index = tokenizer.word_index\n",
        "print(\"Word Index:\\n{}\".format(word_index))\n",
        "\n",
        "text_sequence = tokenizer.texts_to_sequences(sentences)\n",
        "print(\"\\nText Sequence:\\n{}\".format(text_sequence))\n",
        "\n",
        "test_sentences = ['i really love my dog', \n",
        "                  'My dog loves my shoes']\n",
        "\n",
        "test_sequence = tokenizer.texts_to_sequences(test_sentences)\n",
        "print(\"\\nTest Sequence: \\n{}\".format(test_sequence))"
      ],
      "execution_count": 7,
      "outputs": [
        {
          "output_type": "stream",
          "text": [
            "Word Index:\n",
            "{'<OOV>': 1, 'my': 2, 'love': 3, 'dog': 4, 'i': 5, 'you': 6, 'cat': 7, 'do': 8, 'think': 9, 'is': 10, 'amazing': 11}\n",
            "\n",
            "Text Sequence:\n",
            "[[5, 3, 2, 4], [5, 3, 2, 7], [6, 3, 2, 4], [8, 6, 9, 2, 4, 10, 11]]\n",
            "\n",
            "Test Sequence: \n",
            "[[5, 1, 3, 2, 4], [2, 4, 1, 2, 1]]\n"
          ],
          "name": "stdout"
        }
      ]
    },
    {
      "cell_type": "code",
      "metadata": {
        "id": "Cg21yZgj1CUF",
        "colab_type": "code",
        "colab": {
          "base_uri": "https://localhost:8080/",
          "height": 204
        },
        "outputId": "af075a9c-2520-43b4-85d6-99779d6db390"
      },
      "source": [
        "# We need to have uniform sized sentences for training, similar to how we need to resize all the images \n",
        "# to one shape. So for texts, we use padding.\n",
        "\n",
        "tokenizer = Tokenizer(num_words=100, oov_token='<OOV>')\n",
        "tokenizer.fit_on_texts(sentences)\n",
        "word_index = tokenizer.word_index\n",
        "print(\"Word Index:\\n{}\".format(word_index))\n",
        "\n",
        "text_sequence = tokenizer.texts_to_sequences(sentences)\n",
        "print(\"\\nText Sequence:\\n{}\".format(text_sequence))\n",
        "\n",
        "text_padded = pad_sequences(text_sequence, padding='post')\n",
        "print(\"\\nText Padded: \\n{}\".format(text_padded))"
      ],
      "execution_count": 10,
      "outputs": [
        {
          "output_type": "stream",
          "text": [
            "Word Index:\n",
            "{'<OOV>': 1, 'my': 2, 'love': 3, 'dog': 4, 'i': 5, 'you': 6, 'cat': 7, 'do': 8, 'think': 9, 'is': 10, 'amazing': 11}\n",
            "\n",
            "Text Sequence:\n",
            "[[5, 3, 2, 4], [5, 3, 2, 7], [6, 3, 2, 4], [8, 6, 9, 2, 4, 10, 11]]\n",
            "\n",
            "Text Padded: \n",
            "[[ 5  3  2  4  0  0  0]\n",
            " [ 5  3  2  7  0  0  0]\n",
            " [ 6  3  2  4  0  0  0]\n",
            " [ 8  6  9  2  4 10 11]]\n"
          ],
          "name": "stdout"
        }
      ]
    },
    {
      "cell_type": "code",
      "metadata": {
        "id": "G6bHpDs22Ylm",
        "colab_type": "code",
        "colab": {}
      },
      "source": [
        ""
      ],
      "execution_count": 0,
      "outputs": []
    }
  ]
}