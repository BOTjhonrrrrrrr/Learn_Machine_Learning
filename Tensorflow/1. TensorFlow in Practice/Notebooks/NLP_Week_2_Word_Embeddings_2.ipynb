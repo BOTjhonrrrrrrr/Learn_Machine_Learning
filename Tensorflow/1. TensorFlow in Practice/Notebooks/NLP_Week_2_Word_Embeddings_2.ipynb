{
  "nbformat": 4,
  "nbformat_minor": 0,
  "metadata": {
    "colab": {
      "name": "NLP_Week_2_Word_Embeddings_2.ipynb",
      "provenance": [],
      "collapsed_sections": []
    },
    "kernelspec": {
      "name": "python3",
      "display_name": "Python 3"
    },
    "accelerator": "GPU"
  },
  "cells": [
    {
      "cell_type": "code",
      "metadata": {
        "id": "yiLuIg0qhhBy",
        "colab_type": "code",
        "colab": {}
      },
      "source": [
        "!pip install tensorflow==2.0.0"
      ],
      "execution_count": 0,
      "outputs": []
    },
    {
      "cell_type": "code",
      "metadata": {
        "id": "XYYDvoskkE61",
        "colab_type": "code",
        "colab": {}
      },
      "source": [
        "import json\n",
        "import tensorflow as tf\n",
        "import numpy as np \n",
        "\n",
        "from tensorflow.keras.preprocessing.text import Tokenizer\n",
        "from tensorflow.keras.preprocessing.sequence import pad_sequences"
      ],
      "execution_count": 0,
      "outputs": []
    },
    {
      "cell_type": "code",
      "metadata": {
        "id": "0eJSTTYnkJQd",
        "colab_type": "code",
        "colab": {}
      },
      "source": [
        "vocab_size = 10000\n",
        "embedding_dim = 16\n",
        "max_length = 100\n",
        "trunc_type='post'\n",
        "padding_type='post'\n",
        "oov_tok = \"<OOV>\"\n",
        "training_size = 20000"
      ],
      "execution_count": 0,
      "outputs": []
    },
    {
      "cell_type": "code",
      "metadata": {
        "id": "BQVuQrZNkPn9",
        "colab_type": "code",
        "colab": {
          "base_uri": "https://localhost:8080/",
          "height": 204
        },
        "outputId": "e87b4660-d63b-4dbe-c9ea-5413f5ba6d04"
      },
      "source": [
        "!wget --no-check-certificate \\\n",
        "    https://storage.googleapis.com/laurencemoroney-blog.appspot.com/sarcasm.json \\\n",
        "    -O /tmp/sarcasm.json"
      ],
      "execution_count": 3,
      "outputs": [
        {
          "output_type": "stream",
          "text": [
            "--2019-12-27 20:11:11--  https://storage.googleapis.com/laurencemoroney-blog.appspot.com/sarcasm.json\n",
            "Resolving storage.googleapis.com (storage.googleapis.com)... 64.233.188.128, 2404:6800:4008:c07::80\n",
            "Connecting to storage.googleapis.com (storage.googleapis.com)|64.233.188.128|:443... connected.\n",
            "HTTP request sent, awaiting response... 200 OK\n",
            "Length: 5643545 (5.4M) [application/json]\n",
            "Saving to: ‘/tmp/sarcasm.json’\n",
            "\n",
            "\r/tmp/sarcasm.json     0%[                    ]       0  --.-KB/s               \r/tmp/sarcasm.json   100%[===================>]   5.38M  --.-KB/s    in 0.06s   \n",
            "\n",
            "2019-12-27 20:11:11 (95.6 MB/s) - ‘/tmp/sarcasm.json’ saved [5643545/5643545]\n",
            "\n"
          ],
          "name": "stdout"
        }
      ]
    },
    {
      "cell_type": "code",
      "metadata": {
        "id": "oaLaaqhNkUPd",
        "colab_type": "code",
        "colab": {}
      },
      "source": [
        "with open(\"/tmp/sarcasm.json\", 'r') as f:\n",
        "    datastore = json.load(f)\n",
        "\n",
        "sentences = []\n",
        "labels = []\n",
        "\n",
        "for item in datastore:\n",
        "    sentences.append(item['headline'])\n",
        "    labels.append(item['is_sarcastic'])"
      ],
      "execution_count": 0,
      "outputs": []
    },
    {
      "cell_type": "code",
      "metadata": {
        "id": "S1sD-7v0kYWk",
        "colab_type": "code",
        "colab": {}
      },
      "source": [
        "training_sentences = sentences[0:training_size]\n",
        "testing_sentences = sentences[training_size:]\n",
        "training_labels = labels[0:training_size]\n",
        "testing_labels = labels[training_size:]\n",
        "\n",
        "training_sentences = np.array(training_sentences)\n",
        "testing_sentences = np.array(testing_sentences)\n",
        "training_labels = np.array(training_labels)\n",
        "testing_labels = np.array(testing_labels)"
      ],
      "execution_count": 0,
      "outputs": []
    },
    {
      "cell_type": "code",
      "metadata": {
        "id": "3u8UB0MCkZ5N",
        "colab_type": "code",
        "colab": {}
      },
      "source": [
        "tokenizer = Tokenizer(num_words=vocab_size, oov_token=oov_tok)\n",
        "tokenizer.fit_on_texts(training_sentences)\n",
        "\n",
        "word_index = tokenizer.word_index\n",
        "\n",
        "training_sequences = tokenizer.texts_to_sequences(training_sentences)\n",
        "training_padded = pad_sequences(training_sequences, maxlen=max_length, padding=padding_type, truncating=trunc_type)\n",
        "\n",
        "testing_sequences = tokenizer.texts_to_sequences(testing_sentences)\n",
        "testing_padded = pad_sequences(testing_sequences, maxlen=max_length, padding=padding_type, truncating=trunc_type)"
      ],
      "execution_count": 0,
      "outputs": []
    },
    {
      "cell_type": "code",
      "metadata": {
        "id": "FufaT4vlkiDE",
        "colab_type": "code",
        "colab": {
          "base_uri": "https://localhost:8080/",
          "height": 1000
        },
        "outputId": "31f7f47a-c0ff-4a2a-c097-d1a0b8fdf802"
      },
      "source": [
        "model = tf.keras.Sequential([\n",
        "    tf.keras.layers.Embedding(vocab_size, embedding_dim, input_length=max_length),\n",
        "    tf.keras.layers.GlobalAveragePooling1D(),\n",
        "    tf.keras.layers.Dense(24, activation='relu'),\n",
        "    tf.keras.layers.Dense(1, activation='sigmoid')\n",
        "])\n",
        "model.compile(loss='binary_crossentropy',optimizer='adam',metrics=['accuracy'])\n",
        "\n",
        "model.summary()\n",
        "\n",
        "num_epochs = 30\n",
        "history = model.fit(training_padded, training_labels, epochs=num_epochs, validation_data=(testing_padded, testing_labels), verbose=2)"
      ],
      "execution_count": 17,
      "outputs": [
        {
          "output_type": "stream",
          "text": [
            "Model: \"sequential_3\"\n",
            "_________________________________________________________________\n",
            "Layer (type)                 Output Shape              Param #   \n",
            "=================================================================\n",
            "embedding_3 (Embedding)      (None, 100, 16)           160000    \n",
            "_________________________________________________________________\n",
            "global_average_pooling1d_3 ( (None, 16)                0         \n",
            "_________________________________________________________________\n",
            "dense_6 (Dense)              (None, 24)                408       \n",
            "_________________________________________________________________\n",
            "dense_7 (Dense)              (None, 1)                 25        \n",
            "=================================================================\n",
            "Total params: 160,433\n",
            "Trainable params: 160,433\n",
            "Non-trainable params: 0\n",
            "_________________________________________________________________\n",
            "Train on 20000 samples, validate on 6709 samples\n",
            "Epoch 1/30\n",
            "20000/20000 - 3s - loss: 0.6612 - accuracy: 0.5938 - val_loss: 0.5621 - val_accuracy: 0.7627\n",
            "Epoch 2/30\n",
            "20000/20000 - 3s - loss: 0.4190 - accuracy: 0.8340 - val_loss: 0.3795 - val_accuracy: 0.8405\n",
            "Epoch 3/30\n",
            "20000/20000 - 3s - loss: 0.3059 - accuracy: 0.8766 - val_loss: 0.3495 - val_accuracy: 0.8532\n",
            "Epoch 4/30\n",
            "20000/20000 - 3s - loss: 0.2560 - accuracy: 0.8995 - val_loss: 0.3518 - val_accuracy: 0.8489\n",
            "Epoch 5/30\n",
            "20000/20000 - 3s - loss: 0.2213 - accuracy: 0.9140 - val_loss: 0.3499 - val_accuracy: 0.8515\n",
            "Epoch 6/30\n",
            "20000/20000 - 3s - loss: 0.1936 - accuracy: 0.9277 - val_loss: 0.3522 - val_accuracy: 0.8524\n",
            "Epoch 7/30\n",
            "20000/20000 - 3s - loss: 0.1716 - accuracy: 0.9365 - val_loss: 0.3644 - val_accuracy: 0.8556\n",
            "Epoch 8/30\n",
            "20000/20000 - 3s - loss: 0.1536 - accuracy: 0.9428 - val_loss: 0.3936 - val_accuracy: 0.8438\n",
            "Epoch 9/30\n",
            "20000/20000 - 3s - loss: 0.1386 - accuracy: 0.9504 - val_loss: 0.4429 - val_accuracy: 0.8334\n",
            "Epoch 10/30\n",
            "20000/20000 - 3s - loss: 0.1250 - accuracy: 0.9553 - val_loss: 0.4207 - val_accuracy: 0.8475\n",
            "Epoch 11/30\n",
            "20000/20000 - 3s - loss: 0.1131 - accuracy: 0.9618 - val_loss: 0.4463 - val_accuracy: 0.8442\n",
            "Epoch 12/30\n",
            "20000/20000 - 3s - loss: 0.1042 - accuracy: 0.9647 - val_loss: 0.4721 - val_accuracy: 0.8419\n",
            "Epoch 13/30\n",
            "20000/20000 - 3s - loss: 0.0952 - accuracy: 0.9679 - val_loss: 0.5025 - val_accuracy: 0.8377\n",
            "Epoch 14/30\n",
            "20000/20000 - 3s - loss: 0.0852 - accuracy: 0.9711 - val_loss: 0.5285 - val_accuracy: 0.8384\n",
            "Epoch 15/30\n",
            "20000/20000 - 3s - loss: 0.0793 - accuracy: 0.9742 - val_loss: 0.5501 - val_accuracy: 0.8354\n",
            "Epoch 16/30\n",
            "20000/20000 - 3s - loss: 0.0728 - accuracy: 0.9763 - val_loss: 0.5889 - val_accuracy: 0.8360\n",
            "Epoch 17/30\n",
            "20000/20000 - 3s - loss: 0.0670 - accuracy: 0.9785 - val_loss: 0.6893 - val_accuracy: 0.8210\n",
            "Epoch 18/30\n",
            "20000/20000 - 3s - loss: 0.0619 - accuracy: 0.9797 - val_loss: 0.6517 - val_accuracy: 0.8274\n",
            "Epoch 19/30\n",
            "20000/20000 - 3s - loss: 0.0567 - accuracy: 0.9819 - val_loss: 0.6777 - val_accuracy: 0.8281\n",
            "Epoch 20/30\n",
            "20000/20000 - 3s - loss: 0.0540 - accuracy: 0.9829 - val_loss: 0.7195 - val_accuracy: 0.8243\n",
            "Epoch 21/30\n",
            "20000/20000 - 3s - loss: 0.0475 - accuracy: 0.9864 - val_loss: 0.7431 - val_accuracy: 0.8256\n",
            "Epoch 22/30\n",
            "20000/20000 - 3s - loss: 0.0443 - accuracy: 0.9861 - val_loss: 0.7807 - val_accuracy: 0.8238\n",
            "Epoch 23/30\n",
            "20000/20000 - 3s - loss: 0.0406 - accuracy: 0.9873 - val_loss: 0.8160 - val_accuracy: 0.8220\n",
            "Epoch 24/30\n",
            "20000/20000 - 3s - loss: 0.0364 - accuracy: 0.9890 - val_loss: 0.8969 - val_accuracy: 0.8189\n",
            "Epoch 25/30\n",
            "20000/20000 - 3s - loss: 0.0343 - accuracy: 0.9902 - val_loss: 0.9212 - val_accuracy: 0.8156\n",
            "Epoch 26/30\n",
            "20000/20000 - 3s - loss: 0.0310 - accuracy: 0.9914 - val_loss: 0.9335 - val_accuracy: 0.8159\n",
            "Epoch 27/30\n",
            "20000/20000 - 3s - loss: 0.0300 - accuracy: 0.9915 - val_loss: 0.9825 - val_accuracy: 0.8144\n",
            "Epoch 28/30\n",
            "20000/20000 - 3s - loss: 0.0258 - accuracy: 0.9923 - val_loss: 1.0032 - val_accuracy: 0.8162\n",
            "Epoch 29/30\n",
            "20000/20000 - 3s - loss: 0.0247 - accuracy: 0.9930 - val_loss: 1.0638 - val_accuracy: 0.8128\n",
            "Epoch 30/30\n",
            "20000/20000 - 3s - loss: 0.0232 - accuracy: 0.9938 - val_loss: 1.1109 - val_accuracy: 0.8111\n"
          ],
          "name": "stdout"
        }
      ]
    },
    {
      "cell_type": "code",
      "metadata": {
        "id": "2HYfBKXjkmU8",
        "colab_type": "code",
        "colab": {
          "base_uri": "https://localhost:8080/",
          "height": 541
        },
        "outputId": "38e0ef92-d044-43c6-ef93-562c7c397fdc"
      },
      "source": [
        "import matplotlib.pyplot as plt\n",
        "\n",
        "\n",
        "def plot_graphs(history, string):\n",
        "  plt.plot(history.history[string])\n",
        "  plt.plot(history.history['val_'+string])\n",
        "  plt.xlabel(\"Epochs\")\n",
        "  plt.ylabel(string)\n",
        "  plt.legend([string, 'val_'+string])\n",
        "  plt.grid()\n",
        "  plt.show()\n",
        "  \n",
        "plot_graphs(history, \"accuracy\")\n",
        "plot_graphs(history, \"loss\")"
      ],
      "execution_count": 20,
      "outputs": [
        {
          "output_type": "display_data",
          "data": {
            "image/png": "[encoded data removed]",
            "text/plain": [
              "<Figure size 432x288 with 1 Axes>"
            ]
          },
          "metadata": {
            "tags": []
          }
        },
        {
          "output_type": "display_data",
          "data": {
            "image/png": "[encoded data removed]",
            "text/plain": [
              "<Figure size 432x288 with 1 Axes>"
            ]
          },
          "metadata": {
            "tags": []
          }
        }
      ]
    },
    {
      "cell_type": "code",
      "metadata": {
        "id": "7SBdAZAenvzL",
        "colab_type": "code",
        "colab": {}
      },
      "source": [
        "reverse_word_index = dict([(value, key) for (key, value) in word_index.items()])\n",
        "\n",
        "def decode_sentence(text):\n",
        "    return ' '.join([reverse_word_index.get(i, '?') for i in text])\n",
        "\n",
        "print(decode_sentence(training_padded[0]))\n",
        "print(training_sentences[2])\n",
        "print(labels[2])"
      ],
      "execution_count": 0,
      "outputs": []
    },
    {
      "cell_type": "code",
      "metadata": {
        "id": "c9MqihtEkzQ9",
        "colab_type": "code",
        "colab": {}
      },
      "source": [
        "e = model.layers[0]\n",
        "weights = e.get_weights()[0]\n",
        "print(weights.shape) # shape: (vocab_size, embedding_dim)"
      ],
      "execution_count": 0,
      "outputs": []
    },
    {
      "cell_type": "code",
      "metadata": {
        "id": "LoBXVffknldU",
        "colab_type": "code",
        "colab": {}
      },
      "source": [
        "import io\n",
        "\n",
        "out_v = io.open('vecs.tsv', 'w', encoding='utf-8')\n",
        "out_m = io.open('meta.tsv', 'w', encoding='utf-8')\n",
        "for word_num in range(1, vocab_size):\n",
        "  word = reverse_word_index[word_num]\n",
        "  embeddings = weights[word_num]\n",
        "  out_m.write(word + \"\\n\")\n",
        "  out_v.write('\\t'.join([str(x) for x in embeddings]) + \"\\n\")\n",
        "out_v.close()\n",
        "out_m.close()"
      ],
      "execution_count": 0,
      "outputs": []
    },
    {
      "cell_type": "code",
      "metadata": {
        "id": "U4eZ5HtVnnEE",
        "colab_type": "code",
        "colab": {}
      },
      "source": [
        "try:\n",
        "  from google.colab import files\n",
        "except ImportError:\n",
        "  pass\n",
        "else:\n",
        "  files.download('vecs.tsv')\n",
        "  files.download('meta.tsv')"
      ],
      "execution_count": 0,
      "outputs": []
    },
    {
      "cell_type": "code",
      "metadata": {
        "id": "cG8-ArY-qDcz",
        "colab_type": "code",
        "colab": {
          "base_uri": "https://localhost:8080/",
          "height": 51
        },
        "outputId": "43953958-3fd0-4e7d-ff89-65c95da6856b"
      },
      "source": [
        "sentence = [\"granny starting to fear spiders in the garden might be real\", \"game of thrones season finale showing this sunday night\"]\n",
        "sequences = tokenizer.texts_to_sequences(sentence)\n",
        "padded = pad_sequences(sequences, maxlen=max_length, padding=padding_type, truncating=trunc_type)\n",
        "print(model.predict_classes(padded))"
      ],
      "execution_count": 22,
      "outputs": [
        {
          "output_type": "stream",
          "text": [
            "[[1]\n",
            " [0]]\n"
          ],
          "name": "stdout"
        }
      ]
    }
  ]
}