{
  "nbformat": 4,
  "nbformat_minor": 0,
  "metadata": {
    "colab": {
      "name": "NLP_Week_3_Sequence_Models_2b.ipynb",
      "provenance": [],
      "collapsed_sections": []
    },
    "kernelspec": {
      "name": "python3",
      "display_name": "Python 3"
    },
    "accelerator": "GPU"
  },
  "cells": [
    {
      "cell_type": "markdown",
      "metadata": {
        "id": "ghJCEj22gKGO",
        "colab_type": "text"
      },
      "source": [
        "## Sarcasm with 1D Convolutional Layer\n"
      ]
    },
    {
      "cell_type": "code",
      "metadata": {
        "id": "S8QcW9qPf6O_",
        "colab_type": "code",
        "colab": {}
      },
      "source": [
        "!pip install tensorflow==2.0.0"
      ],
      "execution_count": 0,
      "outputs": []
    },
    {
      "cell_type": "code",
      "metadata": {
        "id": "jGwXGIXvFhXW",
        "colab_type": "code",
        "colab": {
          "base_uri": "https://localhost:8080/",
          "height": 1000
        },
        "outputId": "d6f684b7-cbff-4459-e1cc-08ec97226b51"
      },
      "source": [
        "import json\n",
        "import tensorflow as tf\n",
        "import numpy as np \n",
        "\n",
        "from tensorflow.keras.preprocessing.text import Tokenizer\n",
        "from tensorflow.keras.preprocessing.sequence import pad_sequences\n",
        "\n",
        "!wget --no-check-certificate \\\n",
        "    https://storage.googleapis.com/laurencemoroney-blog.appspot.com/sarcasm.json \\\n",
        "    -O /tmp/sarcasm.json\n",
        "\n",
        "vocab_size = 1000\n",
        "embedding_dim = 16\n",
        "max_length = 120\n",
        "trunc_type='post'\n",
        "padding_type='post'\n",
        "oov_tok = \"<OOV>\"\n",
        "training_size = 20000\n",
        "\n",
        "with open(\"/tmp/sarcasm.json\", 'r') as f:\n",
        "    datastore = json.load(f)\n",
        "\n",
        "sentences = []\n",
        "labels = []\n",
        "urls = []\n",
        "for item in datastore:\n",
        "    sentences.append(item['headline'])\n",
        "    labels.append(item['is_sarcastic'])\n",
        "\n",
        "training_sentences = sentences[0:training_size]\n",
        "testing_sentences = sentences[training_size:]\n",
        "training_labels = labels[0:training_size]\n",
        "testing_labels = labels[training_size:]\n",
        "\n",
        "tokenizer = Tokenizer(num_words=vocab_size, oov_token=oov_tok)\n",
        "tokenizer.fit_on_texts(training_sentences)\n",
        "word_index = tokenizer.word_index\n",
        "\n",
        "training_sequences = tokenizer.texts_to_sequences(training_sentences)\n",
        "training_padded = pad_sequences(training_sequences, maxlen=max_length, padding=padding_type, truncating=trunc_type)\n",
        "\n",
        "testing_sequences = tokenizer.texts_to_sequences(testing_sentences)\n",
        "testing_padded = pad_sequences(testing_sequences, maxlen=max_length, padding=padding_type, truncating=trunc_type)\n",
        "\n",
        "model = tf.keras.Sequential([\n",
        "    tf.keras.layers.Embedding(vocab_size, embedding_dim, input_length=max_length),\n",
        "    tf.keras.layers.Conv1D(128, 5, activation='relu'),\n",
        "    tf.keras.layers.GlobalMaxPooling1D(),\n",
        "    tf.keras.layers.Dense(24, activation='relu'),\n",
        "    tf.keras.layers.Dense(1, activation='sigmoid')\n",
        "])\n",
        "model.compile(loss='binary_crossentropy',optimizer='adam',metrics=['accuracy'])\n",
        "model.summary()\n",
        "\n",
        "num_epochs = 50\n",
        "training_padded = np.array(training_padded)\n",
        "training_labels = np.array(training_labels)\n",
        "testing_padded = np.array(testing_padded)\n",
        "testing_labels = np.array(testing_labels)\n",
        "\n",
        "history = model.fit(training_padded, training_labels, epochs=num_epochs, validation_data=(testing_padded, testing_labels), verbose=1)"
      ],
      "execution_count": 3,
      "outputs": [
        {
          "output_type": "stream",
          "text": [
            "--2019-12-26 04:40:38--  https://storage.googleapis.com/laurencemoroney-blog.appspot.com/sarcasm.json\n",
            "Resolving storage.googleapis.com (storage.googleapis.com)... 74.125.202.128, 2607:f8b0:4001:c05::80\n",
            "Connecting to storage.googleapis.com (storage.googleapis.com)|74.125.202.128|:443... connected.\n",
            "HTTP request sent, awaiting response... 200 OK\n",
            "Length: 5643545 (5.4M) [application/json]\n",
            "Saving to: ‘/tmp/sarcasm.json’\n",
            "\n",
            "\r/tmp/sarcasm.json     0%[                    ]       0  --.-KB/s               \r/tmp/sarcasm.json   100%[===================>]   5.38M  --.-KB/s    in 0.02s   \n",
            "\n",
            "2019-12-26 04:40:38 (238 MB/s) - ‘/tmp/sarcasm.json’ saved [5643545/5643545]\n",
            "\n",
            "Model: \"sequential_2\"\n",
            "_________________________________________________________________\n",
            "Layer (type)                 Output Shape              Param #   \n",
            "=================================================================\n",
            "embedding_2 (Embedding)      (None, 120, 16)           16000     \n",
            "_________________________________________________________________\n",
            "conv1d_2 (Conv1D)            (None, 116, 128)          10368     \n",
            "_________________________________________________________________\n",
            "global_max_pooling1d_2 (Glob (None, 128)               0         \n",
            "_________________________________________________________________\n",
            "dense_4 (Dense)              (None, 24)                3096      \n",
            "_________________________________________________________________\n",
            "dense_5 (Dense)              (None, 1)                 25        \n",
            "=================================================================\n",
            "Total params: 29,489\n",
            "Trainable params: 29,489\n",
            "Non-trainable params: 0\n",
            "_________________________________________________________________\n",
            "Train on 20000 samples, validate on 6709 samples\n",
            "Epoch 1/50\n",
            "20000/20000 [==============================] - 11s 533us/sample - loss: 0.4683 - accuracy: 0.7663 - val_loss: 0.4051 - val_accuracy: 0.8150\n",
            "Epoch 2/50\n",
            "20000/20000 [==============================] - 10s 491us/sample - loss: 0.3576 - accuracy: 0.8389 - val_loss: 0.3909 - val_accuracy: 0.8229\n",
            "Epoch 3/50\n",
            "20000/20000 [==============================] - 10s 487us/sample - loss: 0.3207 - accuracy: 0.8597 - val_loss: 0.3904 - val_accuracy: 0.8214\n",
            "Epoch 4/50\n",
            "20000/20000 [==============================] - 10s 499us/sample - loss: 0.2871 - accuracy: 0.8779 - val_loss: 0.4027 - val_accuracy: 0.8189\n",
            "Epoch 5/50\n",
            "20000/20000 [==============================] - 10s 482us/sample - loss: 0.2518 - accuracy: 0.8931 - val_loss: 0.4265 - val_accuracy: 0.8155\n",
            "Epoch 6/50\n",
            "20000/20000 [==============================] - 10s 487us/sample - loss: 0.2193 - accuracy: 0.9098 - val_loss: 0.4535 - val_accuracy: 0.8131\n",
            "Epoch 7/50\n",
            "20000/20000 [==============================] - 10s 480us/sample - loss: 0.1837 - accuracy: 0.9266 - val_loss: 0.4994 - val_accuracy: 0.8074\n",
            "Epoch 8/50\n",
            "20000/20000 [==============================] - 10s 484us/sample - loss: 0.1534 - accuracy: 0.9395 - val_loss: 0.5691 - val_accuracy: 0.8070\n",
            "Epoch 9/50\n",
            "20000/20000 [==============================] - 10s 484us/sample - loss: 0.1266 - accuracy: 0.9528 - val_loss: 0.6499 - val_accuracy: 0.8044\n",
            "Epoch 10/50\n",
            "20000/20000 [==============================] - 10s 484us/sample - loss: 0.1028 - accuracy: 0.9633 - val_loss: 0.7165 - val_accuracy: 0.8010\n",
            "Epoch 11/50\n",
            "20000/20000 [==============================] - 10s 490us/sample - loss: 0.0845 - accuracy: 0.9705 - val_loss: 0.7843 - val_accuracy: 0.7992\n",
            "Epoch 12/50\n",
            "20000/20000 [==============================] - 10s 485us/sample - loss: 0.0691 - accuracy: 0.9766 - val_loss: 0.8802 - val_accuracy: 0.7968\n",
            "Epoch 13/50\n",
            "20000/20000 [==============================] - 10s 484us/sample - loss: 0.0609 - accuracy: 0.9790 - val_loss: 0.9863 - val_accuracy: 0.7948\n",
            "Epoch 14/50\n",
            "20000/20000 [==============================] - 10s 488us/sample - loss: 0.0538 - accuracy: 0.9804 - val_loss: 1.0631 - val_accuracy: 0.7943\n",
            "Epoch 15/50\n",
            "20000/20000 [==============================] - 10s 484us/sample - loss: 0.0480 - accuracy: 0.9829 - val_loss: 1.1356 - val_accuracy: 0.7863\n",
            "Epoch 16/50\n",
            "20000/20000 [==============================] - 10s 486us/sample - loss: 0.0443 - accuracy: 0.9837 - val_loss: 1.1986 - val_accuracy: 0.7927\n",
            "Epoch 17/50\n",
            "20000/20000 [==============================] - 10s 490us/sample - loss: 0.0407 - accuracy: 0.9847 - val_loss: 1.2994 - val_accuracy: 0.7840\n",
            "Epoch 18/50\n",
            "20000/20000 [==============================] - 10s 488us/sample - loss: 0.0402 - accuracy: 0.9839 - val_loss: 1.4476 - val_accuracy: 0.7863\n",
            "Epoch 19/50\n",
            "20000/20000 [==============================] - 10s 491us/sample - loss: 0.0392 - accuracy: 0.9844 - val_loss: 1.3556 - val_accuracy: 0.7863\n",
            "Epoch 20/50\n",
            "20000/20000 [==============================] - 10s 490us/sample - loss: 0.0319 - accuracy: 0.9880 - val_loss: 1.4677 - val_accuracy: 0.7842\n",
            "Epoch 21/50\n",
            "20000/20000 [==============================] - 10s 492us/sample - loss: 0.0333 - accuracy: 0.9872 - val_loss: 1.5241 - val_accuracy: 0.7872\n",
            "Epoch 22/50\n",
            "20000/20000 [==============================] - 10s 484us/sample - loss: 0.0350 - accuracy: 0.9860 - val_loss: 1.5649 - val_accuracy: 0.7885\n",
            "Epoch 23/50\n",
            "20000/20000 [==============================] - 10s 496us/sample - loss: 0.0365 - accuracy: 0.9851 - val_loss: 1.5482 - val_accuracy: 0.7867\n",
            "Epoch 24/50\n",
            "20000/20000 [==============================] - 10s 493us/sample - loss: 0.0288 - accuracy: 0.9876 - val_loss: 1.6483 - val_accuracy: 0.7824\n",
            "Epoch 25/50\n",
            "20000/20000 [==============================] - 10s 487us/sample - loss: 0.0252 - accuracy: 0.9902 - val_loss: 1.6499 - val_accuracy: 0.7806\n",
            "Epoch 26/50\n",
            "20000/20000 [==============================] - 10s 491us/sample - loss: 0.0244 - accuracy: 0.9898 - val_loss: 1.7260 - val_accuracy: 0.7810\n",
            "Epoch 27/50\n",
            "20000/20000 [==============================] - 10s 485us/sample - loss: 0.0252 - accuracy: 0.9898 - val_loss: 1.9040 - val_accuracy: 0.7913\n",
            "Epoch 28/50\n",
            "20000/20000 [==============================] - 10s 486us/sample - loss: 0.0311 - accuracy: 0.9868 - val_loss: 1.8712 - val_accuracy: 0.7867\n",
            "Epoch 29/50\n",
            "20000/20000 [==============================] - 10s 488us/sample - loss: 0.0339 - accuracy: 0.9869 - val_loss: 1.8964 - val_accuracy: 0.7869\n",
            "Epoch 30/50\n",
            "20000/20000 [==============================] - 10s 487us/sample - loss: 0.0272 - accuracy: 0.9894 - val_loss: 1.8745 - val_accuracy: 0.7842\n",
            "Epoch 31/50\n",
            "20000/20000 [==============================] - 10s 485us/sample - loss: 0.0232 - accuracy: 0.9908 - val_loss: 2.0183 - val_accuracy: 0.7915\n",
            "Epoch 32/50\n",
            "20000/20000 [==============================] - 10s 491us/sample - loss: 0.0251 - accuracy: 0.9890 - val_loss: 1.9764 - val_accuracy: 0.7869\n",
            "Epoch 33/50\n",
            "20000/20000 [==============================] - 10s 490us/sample - loss: 0.0234 - accuracy: 0.9905 - val_loss: 1.9623 - val_accuracy: 0.7864\n",
            "Epoch 34/50\n",
            "20000/20000 [==============================] - 10s 487us/sample - loss: 0.0298 - accuracy: 0.9883 - val_loss: 2.0685 - val_accuracy: 0.7872\n",
            "Epoch 35/50\n",
            "20000/20000 [==============================] - 10s 490us/sample - loss: 0.0254 - accuracy: 0.9898 - val_loss: 2.0525 - val_accuracy: 0.7891\n",
            "Epoch 36/50\n",
            "20000/20000 [==============================] - 10s 497us/sample - loss: 0.0228 - accuracy: 0.9905 - val_loss: 2.0908 - val_accuracy: 0.7843\n",
            "Epoch 37/50\n",
            "20000/20000 [==============================] - 10s 488us/sample - loss: 0.0222 - accuracy: 0.9907 - val_loss: 2.1061 - val_accuracy: 0.7863\n",
            "Epoch 38/50\n",
            "20000/20000 [==============================] - 10s 478us/sample - loss: 0.0217 - accuracy: 0.9912 - val_loss: 2.0784 - val_accuracy: 0.7807\n",
            "Epoch 39/50\n",
            "20000/20000 [==============================] - 10s 489us/sample - loss: 0.0260 - accuracy: 0.9893 - val_loss: 2.3096 - val_accuracy: 0.7848\n",
            "Epoch 40/50\n",
            "20000/20000 [==============================] - 10s 484us/sample - loss: 0.0256 - accuracy: 0.9894 - val_loss: 2.1893 - val_accuracy: 0.7898\n",
            "Epoch 41/50\n",
            "20000/20000 [==============================] - 10s 479us/sample - loss: 0.0237 - accuracy: 0.9901 - val_loss: 2.2057 - val_accuracy: 0.7831\n",
            "Epoch 42/50\n",
            "20000/20000 [==============================] - 10s 490us/sample - loss: 0.0193 - accuracy: 0.9914 - val_loss: 2.2964 - val_accuracy: 0.7860\n",
            "Epoch 43/50\n",
            "20000/20000 [==============================] - 10s 487us/sample - loss: 0.0226 - accuracy: 0.9908 - val_loss: 2.3304 - val_accuracy: 0.7828\n",
            "Epoch 44/50\n",
            "20000/20000 [==============================] - 10s 482us/sample - loss: 0.0226 - accuracy: 0.9904 - val_loss: 2.2852 - val_accuracy: 0.7839\n",
            "Epoch 45/50\n",
            "20000/20000 [==============================] - 10s 488us/sample - loss: 0.0205 - accuracy: 0.9912 - val_loss: 2.3531 - val_accuracy: 0.7849\n",
            "Epoch 46/50\n",
            "20000/20000 [==============================] - 10s 485us/sample - loss: 0.0186 - accuracy: 0.9916 - val_loss: 2.6420 - val_accuracy: 0.7869\n",
            "Epoch 47/50\n",
            "20000/20000 [==============================] - 10s 482us/sample - loss: 0.0202 - accuracy: 0.9914 - val_loss: 2.4070 - val_accuracy: 0.7895\n",
            "Epoch 48/50\n",
            "20000/20000 [==============================] - 10s 490us/sample - loss: 0.0243 - accuracy: 0.9894 - val_loss: 2.4403 - val_accuracy: 0.7778\n",
            "Epoch 49/50\n",
            "20000/20000 [==============================] - 10s 485us/sample - loss: 0.0274 - accuracy: 0.9887 - val_loss: 2.5276 - val_accuracy: 0.7892\n",
            "Epoch 50/50\n",
            "20000/20000 [==============================] - 10s 486us/sample - loss: 0.0237 - accuracy: 0.9899 - val_loss: 2.3921 - val_accuracy: 0.7912\n"
          ],
          "name": "stdout"
        }
      ]
    },
    {
      "cell_type": "code",
      "metadata": {
        "id": "g9DC6dmLF8DC",
        "colab_type": "code",
        "colab": {
          "base_uri": "https://localhost:8080/",
          "height": 543
        },
        "outputId": "d4f42239-cdb4-4970-fee8-736810c7475a"
      },
      "source": [
        "import matplotlib.pyplot as plt\n",
        "\n",
        "def plot_graphs(history, string):\n",
        "    plt.plot(history.history[string])\n",
        "    plt.plot(history.history['val_'+string])\n",
        "    plt.xlabel(\"Epochs\")\n",
        "    plt.ylabel(string)\n",
        "    plt.legend([string, 'val_'+string])\n",
        "    plt.grid()\n",
        "    plt.show()\n",
        "\n",
        "plot_graphs(history, 'accuracy')\n",
        "plot_graphs(history, 'loss')"
      ],
      "execution_count": 5,
      "outputs": [
        {
          "output_type": "display_data",
          "data": {
            "image/png": "[encoded data removed]",
            "text/plain": [
              "<Figure size 432x288 with 1 Axes>"
            ]
          },
          "metadata": {
            "tags": []
          }
        },
        {
          "output_type": "display_data",
          "data": {
            "image/png": "[encoded data removed]",
            "text/plain": [
              "<Figure size 432x288 with 1 Axes>"
            ]
          },
          "metadata": {
            "tags": []
          }
        }
      ]
    },
    {
      "cell_type": "code",
      "metadata": {
        "id": "7ZEZIUppGhdi",
        "colab_type": "code",
        "colab": {}
      },
      "source": [
        "model.save(\"test.h5\")"
      ],
      "execution_count": 0,
      "outputs": []
    }
  ]
}