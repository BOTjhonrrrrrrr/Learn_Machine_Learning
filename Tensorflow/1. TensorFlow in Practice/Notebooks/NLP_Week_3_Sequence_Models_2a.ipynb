{
  "nbformat": 4,
  "nbformat_minor": 0,
  "metadata": {
    "colab": {
      "name": "NLP_Week_3_Sequence_Models_2a.ipynb",
      "provenance": [],
      "collapsed_sections": []
    },
    "kernelspec": {
      "name": "python3",
      "display_name": "Python 3"
    },
    "accelerator": "GPU"
  },
  "cells": [
    {
      "cell_type": "markdown",
      "metadata": {
        "id": "HvHY0-rIgCCX",
        "colab_type": "text"
      },
      "source": [
        "## Sarcasm with Bidirectional LSTM\n"
      ]
    },
    {
      "cell_type": "code",
      "metadata": {
        "id": "ppaLGW3XeLTI",
        "colab_type": "code",
        "colab": {}
      },
      "source": [
        "!pip install tensorflow==2.0.0"
      ],
      "execution_count": 0,
      "outputs": []
    },
    {
      "cell_type": "code",
      "metadata": {
        "id": "jGwXGIXvFhXW",
        "colab_type": "code",
        "colab": {
          "base_uri": "https://localhost:8080/",
          "height": 1000
        },
        "outputId": "f4d73b78-47cd-442c-ccaa-d5e65899f2f3"
      },
      "source": [
        "import json\n",
        "import tensorflow as tf\n",
        "import numpy as np \n",
        "\n",
        "from tensorflow.keras.preprocessing.text import Tokenizer\n",
        "from tensorflow.keras.preprocessing.sequence import pad_sequences\n",
        "\n",
        "!wget --no-check-certificate \\\n",
        "    https://storage.googleapis.com/laurencemoroney-blog.appspot.com/sarcasm.json \\\n",
        "    -O /tmp/sarcasm.json\n",
        "\n",
        "vocab_size = 1000\n",
        "embedding_dim = 16\n",
        "max_length = 120\n",
        "trunc_type='post'\n",
        "padding_type='post'\n",
        "oov_tok = \"<OOV>\"\n",
        "training_size = 20000\n",
        "\n",
        "with open(\"/tmp/sarcasm.json\", 'r') as f:\n",
        "    datastore = json.load(f)\n",
        "\n",
        "sentences = []\n",
        "labels = []\n",
        "urls = []\n",
        "for item in datastore:\n",
        "    sentences.append(item['headline'])\n",
        "    labels.append(item['is_sarcastic'])\n",
        "\n",
        "training_sentences = sentences[0:training_size]\n",
        "testing_sentences = sentences[training_size:]\n",
        "training_labels = labels[0:training_size]\n",
        "testing_labels = labels[training_size:]\n",
        "\n",
        "tokenizer = Tokenizer(num_words=vocab_size, oov_token=oov_tok)\n",
        "tokenizer.fit_on_texts(training_sentences)\n",
        "word_index = tokenizer.word_index\n",
        "\n",
        "training_sequences = tokenizer.texts_to_sequences(training_sentences)\n",
        "training_padded = pad_sequences(training_sequences, maxlen=max_length, padding=padding_type, truncating=trunc_type)\n",
        "\n",
        "testing_sequences = tokenizer.texts_to_sequences(testing_sentences)\n",
        "testing_padded = pad_sequences(testing_sequences, maxlen=max_length, padding=padding_type, truncating=trunc_type)\n",
        "\n",
        "model = tf.keras.Sequential([\n",
        "    tf.keras.layers.Embedding(vocab_size, embedding_dim, input_length=max_length),\n",
        "    tf.keras.layers.Bidirectional(tf.keras.layers.LSTM(32)),\n",
        "    tf.keras.layers.Dense(24, activation='relu'),\n",
        "    tf.keras.layers.Dense(1, activation='sigmoid')\n",
        "])\n",
        "model.compile(loss='binary_crossentropy',optimizer='adam',metrics=['accuracy'])\n",
        "model.summary()\n",
        "\n",
        "num_epochs = 50\n",
        "training_padded = np.array(training_padded)\n",
        "training_labels = np.array(training_labels)\n",
        "testing_padded = np.array(testing_padded)\n",
        "testing_labels = np.array(testing_labels)\n",
        "\n",
        "history = model.fit(training_padded, training_labels, epochs=num_epochs, validation_data=(testing_padded, testing_labels), verbose=1)"
      ],
      "execution_count": 7,
      "outputs": [
        {
          "output_type": "stream",
          "text": [
            "--2019-12-26 04:35:42--  https://storage.googleapis.com/laurencemoroney-blog.appspot.com/sarcasm.json\n",
            "Resolving storage.googleapis.com (storage.googleapis.com)... 74.125.20.128, 2607:f8b0:400e:c07::80\n",
            "Connecting to storage.googleapis.com (storage.googleapis.com)|74.125.20.128|:443... connected.\n",
            "HTTP request sent, awaiting response... 200 OK\n",
            "Length: 5643545 (5.4M) [application/json]\n",
            "Saving to: ‘/tmp/sarcasm.json’\n",
            "\n",
            "\r/tmp/sarcasm.json     0%[                    ]       0  --.-KB/s               \r/tmp/sarcasm.json   100%[===================>]   5.38M  --.-KB/s    in 0.07s   \n",
            "\n",
            "2019-12-26 04:35:42 (82.4 MB/s) - ‘/tmp/sarcasm.json’ saved [5643545/5643545]\n",
            "\n",
            "Model: \"sequential_2\"\n",
            "_________________________________________________________________\n",
            "Layer (type)                 Output Shape              Param #   \n",
            "=================================================================\n",
            "embedding_2 (Embedding)      (None, 120, 16)           16000     \n",
            "_________________________________________________________________\n",
            "bidirectional_2 (Bidirection (None, 64)                12544     \n",
            "_________________________________________________________________\n",
            "dense_4 (Dense)              (None, 24)                1560      \n",
            "_________________________________________________________________\n",
            "dense_5 (Dense)              (None, 1)                 25        \n",
            "=================================================================\n",
            "Total params: 30,129\n",
            "Trainable params: 30,129\n",
            "Non-trainable params: 0\n",
            "_________________________________________________________________\n",
            "Train on 20000 samples, validate on 6709 samples\n",
            "Epoch 1/50\n",
            "20000/20000 [==============================] - 47s 2ms/sample - loss: 0.4529 - accuracy: 0.7692 - val_loss: 0.3938 - val_accuracy: 0.8104\n",
            "Epoch 2/50\n",
            "20000/20000 [==============================] - 42s 2ms/sample - loss: 0.3606 - accuracy: 0.8352 - val_loss: 0.3778 - val_accuracy: 0.8240\n",
            "Epoch 3/50\n",
            "20000/20000 [==============================] - 41s 2ms/sample - loss: 0.3367 - accuracy: 0.8475 - val_loss: 0.3750 - val_accuracy: 0.8328\n",
            "Epoch 4/50\n",
            "20000/20000 [==============================] - 41s 2ms/sample - loss: 0.3169 - accuracy: 0.8578 - val_loss: 0.3688 - val_accuracy: 0.8320\n",
            "Epoch 5/50\n",
            "20000/20000 [==============================] - 40s 2ms/sample - loss: 0.3055 - accuracy: 0.8621 - val_loss: 0.3712 - val_accuracy: 0.8328\n",
            "Epoch 6/50\n",
            "20000/20000 [==============================] - 40s 2ms/sample - loss: 0.2929 - accuracy: 0.8727 - val_loss: 0.3834 - val_accuracy: 0.8323\n",
            "Epoch 7/50\n",
            "20000/20000 [==============================] - 41s 2ms/sample - loss: 0.2858 - accuracy: 0.8729 - val_loss: 0.3798 - val_accuracy: 0.8353\n",
            "Epoch 8/50\n",
            "20000/20000 [==============================] - 40s 2ms/sample - loss: 0.2764 - accuracy: 0.8801 - val_loss: 0.3892 - val_accuracy: 0.8343\n",
            "Epoch 9/50\n",
            "20000/20000 [==============================] - 40s 2ms/sample - loss: 0.2682 - accuracy: 0.8824 - val_loss: 0.3932 - val_accuracy: 0.8289\n",
            "Epoch 10/50\n",
            "20000/20000 [==============================] - 40s 2ms/sample - loss: 0.2621 - accuracy: 0.8856 - val_loss: 0.3869 - val_accuracy: 0.8299\n",
            "Epoch 11/50\n",
            "20000/20000 [==============================] - 40s 2ms/sample - loss: 0.2530 - accuracy: 0.8914 - val_loss: 0.3987 - val_accuracy: 0.8283\n",
            "Epoch 12/50\n",
            "20000/20000 [==============================] - 39s 2ms/sample - loss: 0.2436 - accuracy: 0.8951 - val_loss: 0.4176 - val_accuracy: 0.8250\n",
            "Epoch 13/50\n",
            "20000/20000 [==============================] - 39s 2ms/sample - loss: 0.2377 - accuracy: 0.8965 - val_loss: 0.4356 - val_accuracy: 0.8231\n",
            "Epoch 14/50\n",
            "20000/20000 [==============================] - 39s 2ms/sample - loss: 0.2309 - accuracy: 0.9011 - val_loss: 0.4493 - val_accuracy: 0.8240\n",
            "Epoch 15/50\n",
            "20000/20000 [==============================] - 39s 2ms/sample - loss: 0.2240 - accuracy: 0.9047 - val_loss: 0.4464 - val_accuracy: 0.8222\n",
            "Epoch 16/50\n",
            "20000/20000 [==============================] - 39s 2ms/sample - loss: 0.2140 - accuracy: 0.9100 - val_loss: 0.4767 - val_accuracy: 0.8213\n",
            "Epoch 17/50\n",
            "20000/20000 [==============================] - 39s 2ms/sample - loss: 0.2058 - accuracy: 0.9135 - val_loss: 0.5077 - val_accuracy: 0.8174\n",
            "Epoch 18/50\n",
            "20000/20000 [==============================] - 39s 2ms/sample - loss: 0.2012 - accuracy: 0.9156 - val_loss: 0.5349 - val_accuracy: 0.8189\n",
            "Epoch 19/50\n",
            "20000/20000 [==============================] - 38s 2ms/sample - loss: 0.1918 - accuracy: 0.9205 - val_loss: 0.5081 - val_accuracy: 0.8170\n",
            "Epoch 20/50\n",
            "20000/20000 [==============================] - 38s 2ms/sample - loss: 0.1844 - accuracy: 0.9233 - val_loss: 0.5420 - val_accuracy: 0.8155\n",
            "Epoch 21/50\n",
            "20000/20000 [==============================] - 38s 2ms/sample - loss: 0.1757 - accuracy: 0.9284 - val_loss: 0.6011 - val_accuracy: 0.8103\n",
            "Epoch 22/50\n",
            "20000/20000 [==============================] - 39s 2ms/sample - loss: 0.1708 - accuracy: 0.9293 - val_loss: 0.6314 - val_accuracy: 0.8190\n",
            "Epoch 23/50\n",
            "20000/20000 [==============================] - 39s 2ms/sample - loss: 0.1607 - accuracy: 0.9341 - val_loss: 0.6575 - val_accuracy: 0.8091\n",
            "Epoch 24/50\n",
            "20000/20000 [==============================] - 39s 2ms/sample - loss: 0.1575 - accuracy: 0.9354 - val_loss: 0.7045 - val_accuracy: 0.8135\n",
            "Epoch 25/50\n",
            "20000/20000 [==============================] - 39s 2ms/sample - loss: 0.1493 - accuracy: 0.9391 - val_loss: 0.6967 - val_accuracy: 0.8152\n",
            "Epoch 26/50\n",
            "20000/20000 [==============================] - 39s 2ms/sample - loss: 0.1403 - accuracy: 0.9420 - val_loss: 0.8008 - val_accuracy: 0.8077\n",
            "Epoch 27/50\n",
            "20000/20000 [==============================] - 39s 2ms/sample - loss: 0.1354 - accuracy: 0.9437 - val_loss: 0.8073 - val_accuracy: 0.8101\n",
            "Epoch 28/50\n",
            "20000/20000 [==============================] - 39s 2ms/sample - loss: 0.1273 - accuracy: 0.9470 - val_loss: 0.9041 - val_accuracy: 0.8107\n",
            "Epoch 29/50\n",
            "20000/20000 [==============================] - 39s 2ms/sample - loss: 0.1242 - accuracy: 0.9491 - val_loss: 0.8941 - val_accuracy: 0.7997\n",
            "Epoch 30/50\n",
            "20000/20000 [==============================] - 39s 2ms/sample - loss: 0.1242 - accuracy: 0.9494 - val_loss: 0.9255 - val_accuracy: 0.8038\n",
            "Epoch 31/50\n",
            "20000/20000 [==============================] - 38s 2ms/sample - loss: 0.1076 - accuracy: 0.9562 - val_loss: 0.9925 - val_accuracy: 0.8010\n",
            "Epoch 32/50\n",
            "20000/20000 [==============================] - 39s 2ms/sample - loss: 0.1016 - accuracy: 0.9572 - val_loss: 1.0914 - val_accuracy: 0.8003\n",
            "Epoch 33/50\n",
            "20000/20000 [==============================] - 38s 2ms/sample - loss: 0.1003 - accuracy: 0.9587 - val_loss: 1.2309 - val_accuracy: 0.8000\n",
            "Epoch 34/50\n",
            "20000/20000 [==============================] - 38s 2ms/sample - loss: 0.0962 - accuracy: 0.9601 - val_loss: 1.0962 - val_accuracy: 0.8000\n",
            "Epoch 35/50\n",
            "20000/20000 [==============================] - 38s 2ms/sample - loss: 0.0968 - accuracy: 0.9601 - val_loss: 1.1693 - val_accuracy: 0.8004\n",
            "Epoch 36/50\n",
            "20000/20000 [==============================] - 38s 2ms/sample - loss: 0.0894 - accuracy: 0.9635 - val_loss: 1.2950 - val_accuracy: 0.7977\n",
            "Epoch 37/50\n",
            "20000/20000 [==============================] - 38s 2ms/sample - loss: 0.0839 - accuracy: 0.9648 - val_loss: 1.3096 - val_accuracy: 0.7986\n",
            "Epoch 38/50\n",
            "20000/20000 [==============================] - 39s 2ms/sample - loss: 0.0822 - accuracy: 0.9666 - val_loss: 1.2999 - val_accuracy: 0.7995\n",
            "Epoch 39/50\n",
            "20000/20000 [==============================] - 38s 2ms/sample - loss: 0.0756 - accuracy: 0.9678 - val_loss: 1.4208 - val_accuracy: 0.7952\n",
            "Epoch 40/50\n",
            "20000/20000 [==============================] - 39s 2ms/sample - loss: 0.0768 - accuracy: 0.9671 - val_loss: 1.5054 - val_accuracy: 0.7967\n",
            "Epoch 41/50\n",
            "20000/20000 [==============================] - 38s 2ms/sample - loss: 0.0696 - accuracy: 0.9710 - val_loss: 1.4657 - val_accuracy: 0.8010\n",
            "Epoch 42/50\n",
            "20000/20000 [==============================] - 38s 2ms/sample - loss: 0.0747 - accuracy: 0.9678 - val_loss: 1.4878 - val_accuracy: 0.8013\n",
            "Epoch 43/50\n",
            "20000/20000 [==============================] - 38s 2ms/sample - loss: 0.0678 - accuracy: 0.9708 - val_loss: 1.6484 - val_accuracy: 0.7977\n",
            "Epoch 44/50\n",
            "20000/20000 [==============================] - 38s 2ms/sample - loss: 0.0666 - accuracy: 0.9715 - val_loss: 1.5821 - val_accuracy: 0.7952\n",
            "Epoch 45/50\n",
            "20000/20000 [==============================] - 38s 2ms/sample - loss: 0.0651 - accuracy: 0.9724 - val_loss: 1.7314 - val_accuracy: 0.7989\n",
            "Epoch 46/50\n",
            "20000/20000 [==============================] - 38s 2ms/sample - loss: 0.0590 - accuracy: 0.9744 - val_loss: 1.6732 - val_accuracy: 0.7998\n",
            "Epoch 47/50\n",
            "20000/20000 [==============================] - 38s 2ms/sample - loss: 0.0625 - accuracy: 0.9730 - val_loss: 1.7120 - val_accuracy: 0.7942\n",
            "Epoch 48/50\n",
            "20000/20000 [==============================] - 39s 2ms/sample - loss: 0.0586 - accuracy: 0.9761 - val_loss: 1.7036 - val_accuracy: 0.7940\n",
            "Epoch 49/50\n",
            "20000/20000 [==============================] - 38s 2ms/sample - loss: 0.0562 - accuracy: 0.9760 - val_loss: 1.7339 - val_accuracy: 0.7913\n",
            "Epoch 50/50\n",
            "20000/20000 [==============================] - 38s 2ms/sample - loss: 0.0529 - accuracy: 0.9766 - val_loss: 1.7885 - val_accuracy: 0.8007\n"
          ],
          "name": "stdout"
        }
      ]
    },
    {
      "cell_type": "code",
      "metadata": {
        "id": "g9DC6dmLF8DC",
        "colab_type": "code",
        "colab": {
          "base_uri": "https://localhost:8080/",
          "height": 541
        },
        "outputId": "28794e1e-9cc7-4372-ac25-ac13e0895b8d"
      },
      "source": [
        "import matplotlib.pyplot as plt\n",
        "\n",
        "def plot_graphs(history, string):\n",
        "    plt.plot(history.history[string])\n",
        "    plt.plot(history.history['val_'+string])\n",
        "    plt.xlabel(\"Epochs\")\n",
        "    plt.ylabel(string)\n",
        "    plt.legend([string, 'val_'+string])\n",
        "    plt.grid()\n",
        "    plt.show()\n",
        "\n",
        "plot_graphs(history, 'accuracy')\n",
        "plot_graphs(history, 'loss')"
      ],
      "execution_count": 9,
      "outputs": [
        {
          "output_type": "display_data",
          "data": {
            "image/png": "[encoded data removed]",
            "text/plain": [
              "<Figure size 432x288 with 1 Axes>"
            ]
          },
          "metadata": {
            "tags": []
          }
        },
        {
          "output_type": "display_data",
          "data": {
            "image/png": "[encoded data removed]",
            "text/plain": [
              "<Figure size 432x288 with 1 Axes>"
            ]
          },
          "metadata": {
            "tags": []
          }
        }
      ]
    },
    {
      "cell_type": "code",
      "metadata": {
        "id": "7ZEZIUppGhdi",
        "colab_type": "code",
        "colab": {}
      },
      "source": [
        "model.save(\"test.h5\")"
      ],
      "execution_count": 0,
      "outputs": []
    }
  ]
}