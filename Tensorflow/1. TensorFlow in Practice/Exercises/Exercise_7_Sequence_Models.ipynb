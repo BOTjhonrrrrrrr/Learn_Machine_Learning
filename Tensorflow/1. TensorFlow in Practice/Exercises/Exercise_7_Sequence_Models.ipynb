{
  "nbformat": 4,
  "nbformat_minor": 0,
  "metadata": {
    "colab": {
      "name": "Exercise_7_Sequence_Models.ipynb",
      "provenance": [],
      "collapsed_sections": []
    },
    "kernelspec": {
      "name": "python3",
      "display_name": "Python 3"
    },
    "accelerator": "GPU"
  },
  "cells": [
    {
      "cell_type": "code",
      "metadata": {
        "id": "-prQuqB-0Whn",
        "colab_type": "code",
        "colab": {}
      },
      "source": [
        "!pip install tensorflow==2.0.0"
      ],
      "execution_count": 0,
      "outputs": []
    },
    {
      "cell_type": "code",
      "metadata": {
        "id": "hmA6EzkQJ5jt",
        "colab_type": "code",
        "colab": {}
      },
      "source": [
        "import json\n",
        "import tensorflow as tf\n",
        "import csv\n",
        "import random\n",
        "import numpy as np\n",
        "\n",
        "from tensorflow.keras.preprocessing.text import Tokenizer\n",
        "from tensorflow.keras.preprocessing.sequence import pad_sequences\n",
        "from tensorflow.keras.utils import to_categorical\n",
        "from tensorflow.keras import regularizers\n",
        "\n",
        "\n",
        "embedding_dim = 100\n",
        "max_length = 16\n",
        "trunc_type='post'\n",
        "padding_type='post'\n",
        "oov_tok = \"<OOV>\"\n",
        "training_size= 160000 #Your dataset size here. Experiment using smaller values (i.e. 16000), but don't forget to train on at least 160000 to see the best effects\n",
        "test_portion=.1\n",
        "\n",
        "corpus = []"
      ],
      "execution_count": 0,
      "outputs": []
    },
    {
      "cell_type": "code",
      "metadata": {
        "id": "Ozu8MzE21K8V",
        "colab_type": "code",
        "outputId": "f0072672-c5fb-48e4-8608-bfb3b22922a6",
        "colab": {
          "base_uri": "https://localhost:8080/"
        }
      },
      "source": [
        "# Note that I cleaned the Stanford dataset to remove LATIN1 encoding to make it easier for Python CSV reader\n",
        "# You can do that yourself with:\n",
        "# iconv -f LATIN1 -t UTF8 training.1600000.processed.noemoticon.csv -o training_cleaned.csv\n",
        "# I then hosted it on my site to make it easier to use in this notebook\n",
        "\n",
        "!wget --no-check-certificate \\\n",
        "    https://storage.googleapis.com/laurencemoroney-blog.appspot.com/training_cleaned.csv \\\n",
        "    -O /tmp/training_cleaned.csv"
      ],
      "execution_count": 0,
      "outputs": [
        {
          "output_type": "stream",
          "text": [
            "--2019-12-28 00:10:24--  https://storage.googleapis.com/laurencemoroney-blog.appspot.com/training_cleaned.csv\n",
            "Resolving storage.googleapis.com (storage.googleapis.com)... 74.125.204.128, 2404:6800:4008:c00::80\n",
            "Connecting to storage.googleapis.com (storage.googleapis.com)|74.125.204.128|:443... connected.\n",
            "HTTP request sent, awaiting response... 200 OK\n",
            "Length: 238942690 (228M) [application/octet-stream]\n",
            "Saving to: ‘/tmp/training_cleaned.csv’\n",
            "\n",
            "\r          /tmp/trai   0%[                    ]       0  --.-KB/s               \r         /tmp/train   3%[                    ]   8.01M  38.6MB/s               \r        /tmp/traini  17%[==>                 ]  40.01M  56.8MB/s               \r       /tmp/trainin  31%[=====>              ]  72.01M  67.7MB/s               \r      /tmp/training  45%[========>           ] 104.01M  79.7MB/s               \r     /tmp/training_  59%[==========>         ] 136.01M  65.4MB/s               \r    /tmp/training_c  73%[=============>      ] 168.38M  73.8MB/s               \r   /tmp/training_cl  77%[==============>     ] 176.01M  70.1MB/s               \r  /tmp/training_cle  91%[=================>  ] 208.01M  75.8MB/s               \r/tmp/training_clean 100%[===================>] 227.87M  81.1MB/s    in 2.8s    \n",
            "\n",
            "2019-12-28 00:10:27 (81.1 MB/s) - ‘/tmp/training_cleaned.csv’ saved [238942690/238942690]\n",
            "\n"
          ],
          "name": "stdout"
        }
      ]
    },
    {
      "cell_type": "code",
      "metadata": {
        "id": "bM0l_dORKqE0",
        "colab_type": "code",
        "colab": {}
      },
      "source": [
        "num_sentences = 0\n",
        "\n",
        "with open(\"/tmp/training_cleaned.csv\") as csvfile:\n",
        "    reader = csv.reader(csvfile, delimiter=',')\n",
        "    for row in reader:\n",
        "        list_item=[]\n",
        "        list_item.append(row[5])\n",
        "        this_label=row[0]\n",
        "        if this_label=='0':\n",
        "            list_item.append(0)\n",
        "        else:\n",
        "            list_item.append(1)\n",
        "        num_sentences = num_sentences + 1\n",
        "        corpus.append(list_item)"
      ],
      "execution_count": 0,
      "outputs": []
    },
    {
      "cell_type": "code",
      "metadata": {
        "id": "3kxblBUjEUX-",
        "colab_type": "code",
        "outputId": "f1485ecd-99b7-4730-8056-c24be0e5180b",
        "colab": {
          "base_uri": "https://localhost:8080/",
          "height": 88
        }
      },
      "source": [
        "print(num_sentences)\n",
        "print(len(corpus))\n",
        "print(corpus[1])\n",
        "\n",
        "# Expected Output:\n",
        "# 1600000\n",
        "# 1600000\n",
        "# [\"is upset that he can't update his Facebook by texting it... and might cry as a result  School today also. Blah!\", 0]"
      ],
      "execution_count": 26,
      "outputs": [
        {
          "output_type": "stream",
          "text": [
            "1600000\n",
            "1600000\n",
            "[\"is upset that he can't update his Facebook by texting it... and might cry as a result  School today also. Blah!\", 0]\n"
          ],
          "name": "stdout"
        }
      ]
    },
    {
      "cell_type": "code",
      "metadata": {
        "id": "ohOGz24lsNAD",
        "colab_type": "code",
        "colab": {}
      },
      "source": [
        "sentences=[]\n",
        "labels=[]\n",
        "random.shuffle(corpus)\n",
        "for x in range(training_size):\n",
        "    sentences.append(corpus[x][0]) # YOUR CODE HERE\n",
        "    labels.append(corpus[x][1]) # YOUR CODE HERE\n",
        "\n",
        "tokenizer = Tokenizer()\n",
        "tokenizer.fit_on_texts(sentences) # YOUR CODE HERE\n",
        "\n",
        "word_index = tokenizer.word_index\n",
        "vocab_size=len(word_index) # YOUR CODE HERE\n",
        "\n",
        "sequences = tokenizer.texts_to_sequences(sentences) # YOUR CODE HERE\n",
        "padded = pad_sequences(sequences, maxlen=max_length, padding=padding_type, truncating=trunc_type) # YOUR CODE HERE\n",
        "\n",
        "split = int(test_portion * training_size)\n",
        "\n",
        "test_sequences = padded[0:split]\n",
        "training_sequences = padded[split:training_size]\n",
        "test_labels = labels[0:split]\n",
        "training_labels = labels[split:training_size]\n",
        "\n",
        "test_sequences = np.array(test_sequences)\n",
        "training_sequences = np.array(training_sequences)\n",
        "test_labels = np.array(test_labels)\n",
        "training_labels = np.array(training_labels)"
      ],
      "execution_count": 0,
      "outputs": []
    },
    {
      "cell_type": "code",
      "metadata": {
        "id": "gIrtRem1En3N",
        "colab_type": "code",
        "outputId": "b64f3672-99e1-4f2e-a792-dd7dbcc7a6c3",
        "colab": {
          "base_uri": "https://localhost:8080/",
          "height": 51
        }
      },
      "source": [
        "print(vocab_size)\n",
        "print(word_index['i'])\n",
        "# Expected Output\n",
        "# 138858\n",
        "# 1"
      ],
      "execution_count": 28,
      "outputs": [
        {
          "output_type": "stream",
          "text": [
            "138351\n",
            "1\n"
          ],
          "name": "stdout"
        }
      ]
    },
    {
      "cell_type": "code",
      "metadata": {
        "id": "1f2AQWo-BOuQ",
        "colab_type": "code",
        "colab": {}
      },
      "source": [
        "# Note this is the 100 dimension version of GloVe from Stanford\n",
        "# I unzipped and hosted it on my site to make this notebook easier\n",
        "!wget --no-check-certificate \\\n",
        "    https://storage.googleapis.com/laurencemoroney-blog.appspot.com/glove.6B.100d.txt \\\n",
        "    -O /tmp/glove.6B.100d.txt"
      ],
      "execution_count": 0,
      "outputs": []
    },
    {
      "cell_type": "code",
      "metadata": {
        "id": "C1zdgJkusRh0",
        "colab_type": "code",
        "outputId": "71a5c0c0-2bee-49c1-a553-87d220c2bf55",
        "colab": {
          "base_uri": "https://localhost:8080/",
          "height": 204
        }
      },
      "source": [
        "embeddings_index = {};\n",
        "with open('/tmp/glove.6B.100d.txt') as f:\n",
        "    for line in f:\n",
        "        values = line.split();\n",
        "        word = values[0];\n",
        "        coefs = np.asarray(values[1:], dtype='float32');\n",
        "        embeddings_index[word] = coefs;\n",
        "\n",
        "embeddings_matrix = np.zeros((vocab_size+1, embedding_dim));\n",
        "for word, i in word_index.items():\n",
        "    embedding_vector = embeddings_index.get(word);\n",
        "    if embedding_vector is not None:\n",
        "        embeddings_matrix[i] = embedding_vector;"
      ],
      "execution_count": 29,
      "outputs": [
        {
          "output_type": "stream",
          "text": [
            "--2019-12-28 01:00:05--  https://storage.googleapis.com/laurencemoroney-blog.appspot.com/glove.6B.100d.txt\n",
            "Resolving storage.googleapis.com (storage.googleapis.com)... 108.177.97.128, 2404:6800:4008:c04::80\n",
            "Connecting to storage.googleapis.com (storage.googleapis.com)|108.177.97.128|:443... connected.\n",
            "HTTP request sent, awaiting response... 200 OK\n",
            "Length: 347116733 (331M) [text/plain]\n",
            "Saving to: ‘/tmp/glove.6B.100d.txt’\n",
            "\n",
            "/tmp/glove.6B.100d. 100%[===================>] 331.04M  82.6MB/s    in 4.0s    \n",
            "\n",
            "2019-12-28 01:00:10 (82.6 MB/s) - ‘/tmp/glove.6B.100d.txt’ saved [347116733/347116733]\n",
            "\n"
          ],
          "name": "stdout"
        }
      ]
    },
    {
      "cell_type": "code",
      "metadata": {
        "id": "71NLk_lpFLNt",
        "colab_type": "code",
        "outputId": "04723e1f-f493-491b-93e8-2b4966d85bfe",
        "colab": {
          "base_uri": "https://localhost:8080/",
          "height": 34
        }
      },
      "source": [
        "print(len(embeddings_matrix))\n",
        "# Expected Output\n",
        "# 138859"
      ],
      "execution_count": 30,
      "outputs": [
        {
          "output_type": "stream",
          "text": [
            "138352\n"
          ],
          "name": "stdout"
        }
      ]
    },
    {
      "cell_type": "code",
      "metadata": {
        "colab_type": "code",
        "id": "iKKvbuEBOGFz",
        "colab": {
          "base_uri": "https://localhost:8080/",
          "height": 1000
        },
        "outputId": "88f2d737-d50b-445d-f3c5-cd5f062a96e3"
      },
      "source": [
        "model = tf.keras.Sequential([\n",
        "    tf.keras.layers.Embedding(vocab_size+1, embedding_dim, input_length=max_length, weights=[embeddings_matrix], trainable=False),\n",
        "    # YOUR CODE HERE - experiment with combining different types, such as convolutions and LSTMs\n",
        "    tf.keras.layers.Dropout(0.2),\n",
        "    tf.keras.layers.Conv1D(64, 5, activation='relu'),\n",
        "    tf.keras.layers.MaxPooling1D(pool_size=4),\n",
        "    tf.keras.layers.LSTM(64),\n",
        "    tf.keras.layers.Dense(1, activation='sigmoid')\n",
        "])\n",
        "\n",
        "model.compile(loss='binary_crossentropy', optimizer='adam', metric=['accuracy']) # YOUR CODE HERE\n",
        "model.summary()\n",
        "\n",
        "num_epochs = 50\n",
        "history = model.fit(training_sequences, training_labels, epochs=num_epochs, validation_data=(test_sequences, test_labels), verbose=2)"
      ],
      "execution_count": 31,
      "outputs": [
        {
          "output_type": "stream",
          "text": [
            "Model: \"sequential_2\"\n",
            "_________________________________________________________________\n",
            "Layer (type)                 Output Shape              Param #   \n",
            "=================================================================\n",
            "embedding_2 (Embedding)      (None, 16, 100)           13835200  \n",
            "_________________________________________________________________\n",
            "dropout_2 (Dropout)          (None, 16, 100)           0         \n",
            "_________________________________________________________________\n",
            "conv1d_2 (Conv1D)            (None, 12, 64)            32064     \n",
            "_________________________________________________________________\n",
            "max_pooling1d_2 (MaxPooling1 (None, 3, 64)             0         \n",
            "_________________________________________________________________\n",
            "lstm_2 (LSTM)                (None, 64)                33024     \n",
            "_________________________________________________________________\n",
            "dense_2 (Dense)              (None, 1)                 65        \n",
            "=================================================================\n",
            "Total params: 13,900,353\n",
            "Trainable params: 65,153\n",
            "Non-trainable params: 13,835,200\n",
            "_________________________________________________________________\n",
            "Train on 144000 samples, validate on 16000 samples\n",
            "Epoch 1/50\n",
            "144000/144000 - 109s - loss: 0.5671 - val_loss: 0.5266\n",
            "Epoch 2/50\n",
            "144000/144000 - 98s - loss: 0.5276 - val_loss: 0.5110\n",
            "Epoch 3/50\n",
            "144000/144000 - 95s - loss: 0.5099 - val_loss: 0.4984\n",
            "Epoch 4/50\n",
            "144000/144000 - 92s - loss: 0.4988 - val_loss: 0.4931\n",
            "Epoch 5/50\n",
            "144000/144000 - 89s - loss: 0.4890 - val_loss: 0.4944\n",
            "Epoch 6/50\n",
            "144000/144000 - 87s - loss: 0.4829 - val_loss: 0.4917\n",
            "Epoch 7/50\n",
            "144000/144000 - 86s - loss: 0.4760 - val_loss: 0.4955\n",
            "Epoch 8/50\n",
            "144000/144000 - 85s - loss: 0.4727 - val_loss: 0.4906\n",
            "Epoch 9/50\n",
            "144000/144000 - 86s - loss: 0.4688 - val_loss: 0.4879\n",
            "Epoch 10/50\n",
            "144000/144000 - 85s - loss: 0.4642 - val_loss: 0.4896\n",
            "Epoch 11/50\n",
            "144000/144000 - 85s - loss: 0.4603 - val_loss: 0.4926\n",
            "Epoch 12/50\n",
            "144000/144000 - 85s - loss: 0.4575 - val_loss: 0.4952\n",
            "Epoch 13/50\n",
            "144000/144000 - 83s - loss: 0.4552 - val_loss: 0.4925\n",
            "Epoch 14/50\n",
            "144000/144000 - 82s - loss: 0.4532 - val_loss: 0.4928\n",
            "Epoch 15/50\n",
            "144000/144000 - 81s - loss: 0.4499 - val_loss: 0.4975\n",
            "Epoch 16/50\n",
            "144000/144000 - 83s - loss: 0.4476 - val_loss: 0.4927\n",
            "Epoch 17/50\n",
            "144000/144000 - 81s - loss: 0.4453 - val_loss: 0.4921\n",
            "Epoch 18/50\n",
            "144000/144000 - 79s - loss: 0.4446 - val_loss: 0.4949\n",
            "Epoch 19/50\n",
            "144000/144000 - 79s - loss: 0.4432 - val_loss: 0.4980\n",
            "Epoch 20/50\n",
            "144000/144000 - 79s - loss: 0.4412 - val_loss: 0.4967\n",
            "Epoch 21/50\n",
            "144000/144000 - 79s - loss: 0.4400 - val_loss: 0.4955\n",
            "Epoch 22/50\n",
            "144000/144000 - 79s - loss: 0.4406 - val_loss: 0.4955\n",
            "Epoch 23/50\n",
            "144000/144000 - 79s - loss: 0.4388 - val_loss: 0.4994\n",
            "Epoch 24/50\n",
            "144000/144000 - 79s - loss: 0.4375 - val_loss: 0.4950\n",
            "Epoch 25/50\n",
            "144000/144000 - 80s - loss: 0.4356 - val_loss: 0.4998\n",
            "Epoch 26/50\n",
            "144000/144000 - 79s - loss: 0.4360 - val_loss: 0.4993\n",
            "Epoch 27/50\n",
            "144000/144000 - 81s - loss: 0.4353 - val_loss: 0.4949\n",
            "Epoch 28/50\n",
            "144000/144000 - 80s - loss: 0.4337 - val_loss: 0.5017\n",
            "Epoch 29/50\n",
            "144000/144000 - 79s - loss: 0.4335 - val_loss: 0.5044\n",
            "Epoch 30/50\n",
            "144000/144000 - 79s - loss: 0.4315 - val_loss: 0.5025\n",
            "Epoch 31/50\n",
            "144000/144000 - 79s - loss: 0.4322 - val_loss: 0.5126\n",
            "Epoch 32/50\n",
            "144000/144000 - 80s - loss: 0.4306 - val_loss: 0.5031\n",
            "Epoch 33/50\n",
            "144000/144000 - 80s - loss: 0.4309 - val_loss: 0.5045\n",
            "Epoch 34/50\n",
            "144000/144000 - 80s - loss: 0.4291 - val_loss: 0.5064\n",
            "Epoch 35/50\n",
            "144000/144000 - 80s - loss: 0.4296 - val_loss: 0.5087\n",
            "Epoch 36/50\n",
            "144000/144000 - 79s - loss: 0.4294 - val_loss: 0.5062\n",
            "Epoch 37/50\n",
            "144000/144000 - 80s - loss: 0.4299 - val_loss: 0.5093\n",
            "Epoch 38/50\n",
            "144000/144000 - 79s - loss: 0.4293 - val_loss: 0.5070\n",
            "Epoch 39/50\n",
            "144000/144000 - 80s - loss: 0.4281 - val_loss: 0.5082\n",
            "Epoch 40/50\n",
            "144000/144000 - 79s - loss: 0.4279 - val_loss: 0.5096\n",
            "Epoch 41/50\n",
            "144000/144000 - 77s - loss: 0.4271 - val_loss: 0.5086\n",
            "Epoch 42/50\n",
            "144000/144000 - 77s - loss: 0.4263 - val_loss: 0.5076\n",
            "Epoch 43/50\n",
            "144000/144000 - 77s - loss: 0.4275 - val_loss: 0.5112\n",
            "Epoch 44/50\n",
            "144000/144000 - 78s - loss: 0.4273 - val_loss: 0.5103\n",
            "Epoch 45/50\n",
            "144000/144000 - 77s - loss: 0.4273 - val_loss: 0.5105\n",
            "Epoch 46/50\n",
            "144000/144000 - 77s - loss: 0.4268 - val_loss: 0.5097\n",
            "Epoch 47/50\n",
            "144000/144000 - 78s - loss: 0.4261 - val_loss: 0.5071\n",
            "Epoch 48/50\n",
            "144000/144000 - 78s - loss: 0.4250 - val_loss: 0.5140\n",
            "Epoch 49/50\n",
            "144000/144000 - 79s - loss: 0.4257 - val_loss: 0.5124\n",
            "Epoch 50/50\n",
            "144000/144000 - 84s - loss: 0.4247 - val_loss: 0.5104\n"
          ],
          "name": "stdout"
        }
      ]
    },
    {
      "cell_type": "code",
      "metadata": {
        "id": "qxju4ItJKO8F",
        "colab_type": "code",
        "colab": {}
      },
      "source": [
        "import matplotlib.image  as mpimg\n",
        "import matplotlib.pyplot as plt\n",
        "\n",
        "#-----------------------------------------------------------\n",
        "# Retrieve a list of list results on training and test data\n",
        "# sets for each training epoch\n",
        "#-----------------------------------------------------------\n",
        "acc=history.history['accuracy']\n",
        "val_acc=history.history['val_acc']\n",
        "loss=history.history['loss']\n",
        "val_loss=history.history['val_loss']\n",
        "\n",
        "epochs=range(len(acc)) # Get number of epochs\n",
        "\n",
        "#------------------------------------------------\n",
        "# Plot training and validation accuracy per epoch\n",
        "#------------------------------------------------\n",
        "plt.plot(epochs, acc, 'r')\n",
        "plt.plot(epochs, val_acc, 'b')\n",
        "plt.title('Training and validation accuracy')\n",
        "plt.xlabel(\"Epochs\")\n",
        "plt.ylabel(\"Accuracy\")\n",
        "plt.legend([\"Accuracy\", \"Validation Accuracy\"])\n",
        "\n",
        "plt.figure()\n",
        "\n",
        "#------------------------------------------------\n",
        "# Plot training and validation loss per epoch\n",
        "#------------------------------------------------\n",
        "plt.plot(epochs, loss, 'r')\n",
        "plt.plot(epochs, val_loss, 'b')\n",
        "plt.title('Training and validation loss')\n",
        "plt.xlabel(\"Epochs\")\n",
        "plt.ylabel(\"Loss\")\n",
        "plt.legend([\"Loss\", \"Validation Loss\"])\n",
        "\n",
        "plt.figure()\n",
        "\n",
        "\n",
        "# Expected Output\n",
        "# A chart where the validation loss does not increase sharply!"
      ],
      "execution_count": 0,
      "outputs": []
    }
  ]
}