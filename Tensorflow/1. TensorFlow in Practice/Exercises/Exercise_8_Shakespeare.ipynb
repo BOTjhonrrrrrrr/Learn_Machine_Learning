{
  "nbformat": 4,
  "nbformat_minor": 0,
  "metadata": {
    "colab": {
      "name": "Exercise_8_Shakespeare.ipynb",
      "provenance": [],
      "collapsed_sections": []
    },
    "kernelspec": {
      "name": "python3",
      "display_name": "Python 3"
    },
    "accelerator": "GPU"
  },
  "cells": [
    {
      "cell_type": "code",
      "metadata": {
        "id": "rnefZi8MEenn",
        "colab_type": "code",
        "colab": {}
      },
      "source": [
        "!pip install tensorflow==2.0.0"
      ],
      "execution_count": 0,
      "outputs": []
    },
    {
      "cell_type": "code",
      "metadata": {
        "id": "BOwsuGQQY9OL",
        "colab_type": "code",
        "colab": {}
      },
      "source": [
        "from tensorflow.keras.preprocessing.sequence import pad_sequences\n",
        "from tensorflow.keras.layers import Embedding, LSTM, Dense, Dropout, Bidirectional\n",
        "from tensorflow.keras.preprocessing.text import Tokenizer\n",
        "from tensorflow.keras.models import Sequential\n",
        "from tensorflow.keras.optimizers import Adam\n",
        "### YOUR CODE HERE\n",
        "# Figure out how to import regularizers\n",
        "###\n",
        "from tensorflow.keras import regularizers\n",
        "import tensorflow.keras.utils as ku \n",
        "import numpy as np "
      ],
      "execution_count": 0,
      "outputs": []
    },
    {
      "cell_type": "code",
      "metadata": {
        "id": "f_bIQSfqJmvG",
        "colab_type": "code",
        "colab": {}
      },
      "source": [
        "tokenizer = Tokenizer()\n",
        "!wget --no-check-certificate \\\n",
        "    https://storage.googleapis.com/laurencemoroney-blog.appspot.com/sonnets.txt \\\n",
        "    -O /tmp/sonnets.txt\n",
        "data = open('/tmp/sonnets.txt').read()\n",
        "corpus = data.lower().split(\"\\n\")"
      ],
      "execution_count": 0,
      "outputs": []
    },
    {
      "cell_type": "code",
      "metadata": {
        "id": "MhVsLfq6JzGl",
        "colab_type": "code",
        "colab": {}
      },
      "source": [
        "input_sequences[0]"
      ],
      "execution_count": 0,
      "outputs": []
    },
    {
      "cell_type": "code",
      "metadata": {
        "id": "gm5n9m5QKeyA",
        "colab_type": "code",
        "colab": {}
      },
      "source": [
        "l = corpus[0]"
      ],
      "execution_count": 0,
      "outputs": []
    },
    {
      "cell_type": "code",
      "metadata": {
        "id": "X-2eYg77Khvf",
        "colab_type": "code",
        "colab": {}
      },
      "source": [
        "t = tokenizer.texts_to_sequences([l])[0]\n",
        "t"
      ],
      "execution_count": 0,
      "outputs": []
    },
    {
      "cell_type": "code",
      "metadata": {
        "id": "WWdXUE3ZLb22",
        "colab_type": "code",
        "colab": {}
      },
      "source": [
        "input_sequences[0]"
      ],
      "execution_count": 0,
      "outputs": []
    },
    {
      "cell_type": "code",
      "metadata": {
        "colab_type": "code",
        "id": "PRnDnCW-Z7qv",
        "colab": {
          "base_uri": "https://localhost:8080/",
          "height": 204
        },
        "outputId": "aad32c44-3ada-4037-d533-b9bebf8fe0c3"
      },
      "source": [
        "tokenizer.fit_on_texts(corpus)\n",
        "total_words = len(tokenizer.word_index) + 1\n",
        "\n",
        "# create input sequences using list of tokens\n",
        "input_sequences = []\n",
        "for line in corpus:\n",
        "\ttoken_list = tokenizer.texts_to_sequences([line])[0]\n",
        "\tfor i in range(1, len(token_list)):\n",
        "\t\tn_gram_sequence = token_list[:i+1]\n",
        "\t\tinput_sequences.append(n_gram_sequence)\n",
        "\n",
        "# pad sequences \n",
        "max_sequence_len = max([len(x) for x in input_sequences])\n",
        "input_sequences = np.array(pad_sequences(input_sequences, maxlen=max_sequence_len, padding='pre'))\n",
        "\n",
        "# create predictors and label\n",
        "predictors, label = input_sequences[:,:-1],input_sequences[:,-1]\n",
        "\n",
        "label = ku.to_categorical(label, num_classes=total_words)"
      ],
      "execution_count": 2,
      "outputs": [
        {
          "output_type": "stream",
          "text": [
            "--2019-12-28 01:18:28--  https://storage.googleapis.com/laurencemoroney-blog.appspot.com/sonnets.txt\n",
            "Resolving storage.googleapis.com (storage.googleapis.com)... 64.233.166.128, 2a00:1450:400c:c02::80\n",
            "Connecting to storage.googleapis.com (storage.googleapis.com)|64.233.166.128|:443... connected.\n",
            "HTTP request sent, awaiting response... 200 OK\n",
            "Length: 93578 (91K) [text/plain]\n",
            "Saving to: ‘/tmp/sonnets.txt’\n",
            "\n",
            "\r/tmp/sonnets.txt      0%[                    ]       0  --.-KB/s               \r/tmp/sonnets.txt    100%[===================>]  91.38K  --.-KB/s    in 0.001s  \n",
            "\n",
            "2019-12-28 01:18:28 (99.5 MB/s) - ‘/tmp/sonnets.txt’ saved [93578/93578]\n",
            "\n"
          ],
          "name": "stdout"
        }
      ]
    },
    {
      "cell_type": "code",
      "metadata": {
        "id": "w9vH8Y59ajYL",
        "colab_type": "code",
        "colab": {
          "base_uri": "https://localhost:8080/",
          "height": 357
        },
        "outputId": "bfa43824-004f-4c74-e1ac-699959e3a69e"
      },
      "source": [
        "model = Sequential()\n",
        "model.add(Embedding(total_words, 100, input_length=max_sequence_len-1)) # Your Embedding Layer\n",
        "model.add(Bidirectional(LSTM(150, return_sequences=True))) # An LSTM Layer\n",
        "model.add(Dropout(0.2)) # A dropout layer\n",
        "model.add(LSTM(100)) # Another LSTM Layer\n",
        "model.add(Dense(total_words/2, activation='relu', kernel_regularizer=regularizers.l2(0.01))) # A Dense Layer including regularizers\n",
        "model.add(Dense(total_words, activation='softmax')) # A Dense Layer\n",
        "# Pick an optimizer\n",
        "model.compile(loss='categorical_crossentropy', optimizer='adam', metrics=['accuracy']) # Pick a loss function and an optimizer\n",
        "model.summary()"
      ],
      "execution_count": 5,
      "outputs": [
        {
          "output_type": "stream",
          "text": [
            "Model: \"sequential_1\"\n",
            "_________________________________________________________________\n",
            "Layer (type)                 Output Shape              Param #   \n",
            "=================================================================\n",
            "embedding_1 (Embedding)      (None, 10, 100)           321100    \n",
            "_________________________________________________________________\n",
            "bidirectional_1 (Bidirection (None, 10, 300)           301200    \n",
            "_________________________________________________________________\n",
            "dropout_1 (Dropout)          (None, 10, 300)           0         \n",
            "_________________________________________________________________\n",
            "lstm_3 (LSTM)                (None, 100)               160400    \n",
            "_________________________________________________________________\n",
            "dense_2 (Dense)              (None, 1605)              162105    \n",
            "_________________________________________________________________\n",
            "dense_3 (Dense)              (None, 3211)              5156866   \n",
            "=================================================================\n",
            "Total params: 6,101,671\n",
            "Trainable params: 6,101,671\n",
            "Non-trainable params: 0\n",
            "_________________________________________________________________\n"
          ],
          "name": "stdout"
        }
      ]
    },
    {
      "cell_type": "code",
      "metadata": {
        "id": "AIg2f1HBxqof",
        "colab_type": "code",
        "colab": {
          "base_uri": "https://localhost:8080/",
          "height": 1000
        },
        "outputId": "e0767bdd-b0e6-44c4-9007-40c549f3be0e"
      },
      "source": [
        "history = model.fit(predictors, label, epochs=100, verbose=1)"
      ],
      "execution_count": 6,
      "outputs": [
        {
          "output_type": "stream",
          "text": [
            "Train on 15462 samples\n",
            "Epoch 1/100\n",
            "15462/15462 [==============================] - 67s 4ms/sample - loss: 6.8983 - accuracy: 0.0216\n",
            "Epoch 2/100\n",
            "15462/15462 [==============================] - 61s 4ms/sample - loss: 6.4987 - accuracy: 0.0220\n",
            "Epoch 3/100\n",
            "15462/15462 [==============================] - 61s 4ms/sample - loss: 6.3947 - accuracy: 0.0246\n",
            "Epoch 4/100\n",
            "15462/15462 [==============================] - 62s 4ms/sample - loss: 6.2661 - accuracy: 0.0332\n",
            "Epoch 5/100\n",
            "15462/15462 [==============================] - 60s 4ms/sample - loss: 6.1634 - accuracy: 0.0369\n",
            "Epoch 6/100\n",
            "15462/15462 [==============================] - 61s 4ms/sample - loss: 6.0768 - accuracy: 0.0407\n",
            "Epoch 7/100\n",
            "15462/15462 [==============================] - 61s 4ms/sample - loss: 5.9884 - accuracy: 0.0404\n",
            "Epoch 8/100\n",
            "15462/15462 [==============================] - 61s 4ms/sample - loss: 5.9031 - accuracy: 0.0474\n",
            "Epoch 9/100\n",
            "15462/15462 [==============================] - 60s 4ms/sample - loss: 5.8032 - accuracy: 0.0528\n",
            "Epoch 10/100\n",
            "15462/15462 [==============================] - 61s 4ms/sample - loss: 5.6967 - accuracy: 0.0601\n",
            "Epoch 11/100\n",
            "15462/15462 [==============================] - 61s 4ms/sample - loss: 5.5882 - accuracy: 0.0633\n",
            "Epoch 12/100\n",
            "15462/15462 [==============================] - 61s 4ms/sample - loss: 5.4881 - accuracy: 0.0676\n",
            "Epoch 13/100\n",
            "15462/15462 [==============================] - 61s 4ms/sample - loss: 5.3861 - accuracy: 0.0752\n",
            "Epoch 14/100\n",
            "15462/15462 [==============================] - 60s 4ms/sample - loss: 5.2848 - accuracy: 0.0803\n",
            "Epoch 15/100\n",
            "15462/15462 [==============================] - 60s 4ms/sample - loss: 5.1764 - accuracy: 0.0898\n",
            "Epoch 16/100\n",
            "15462/15462 [==============================] - 60s 4ms/sample - loss: 5.0733 - accuracy: 0.0979\n",
            "Epoch 17/100\n",
            "15462/15462 [==============================] - 60s 4ms/sample - loss: 4.9619 - accuracy: 0.1035\n",
            "Epoch 18/100\n",
            "15462/15462 [==============================] - 60s 4ms/sample - loss: 4.8663 - accuracy: 0.1134\n",
            "Epoch 19/100\n",
            "15462/15462 [==============================] - 60s 4ms/sample - loss: 4.7586 - accuracy: 0.1187\n",
            "Epoch 20/100\n",
            "15462/15462 [==============================] - 60s 4ms/sample - loss: 4.6548 - accuracy: 0.1284\n",
            "Epoch 21/100\n",
            "15462/15462 [==============================] - 60s 4ms/sample - loss: 4.5462 - accuracy: 0.1392\n",
            "Epoch 22/100\n",
            "15462/15462 [==============================] - 59s 4ms/sample - loss: 4.4365 - accuracy: 0.1520\n",
            "Epoch 23/100\n",
            "15462/15462 [==============================] - 59s 4ms/sample - loss: 4.3277 - accuracy: 0.1643\n",
            "Epoch 24/100\n",
            "15462/15462 [==============================] - 59s 4ms/sample - loss: 4.2328 - accuracy: 0.1778\n",
            "Epoch 25/100\n",
            "15462/15462 [==============================] - 59s 4ms/sample - loss: 4.1299 - accuracy: 0.1894\n",
            "Epoch 26/100\n",
            "15462/15462 [==============================] - 59s 4ms/sample - loss: 4.0258 - accuracy: 0.2072\n",
            "Epoch 27/100\n",
            "15462/15462 [==============================] - 59s 4ms/sample - loss: 3.9283 - accuracy: 0.2216\n",
            "Epoch 28/100\n",
            "15462/15462 [==============================] - 59s 4ms/sample - loss: 3.8350 - accuracy: 0.2410\n",
            "Epoch 29/100\n",
            "15462/15462 [==============================] - 59s 4ms/sample - loss: 3.7327 - accuracy: 0.2532\n",
            "Epoch 30/100\n",
            "15462/15462 [==============================] - 59s 4ms/sample - loss: 3.6411 - accuracy: 0.2760\n",
            "Epoch 31/100\n",
            "15462/15462 [==============================] - 60s 4ms/sample - loss: 3.5588 - accuracy: 0.2867\n",
            "Epoch 32/100\n",
            "15462/15462 [==============================] - 59s 4ms/sample - loss: 3.4712 - accuracy: 0.3096\n",
            "Epoch 33/100\n",
            "15462/15462 [==============================] - 58s 4ms/sample - loss: 3.3842 - accuracy: 0.3252\n",
            "Epoch 34/100\n",
            "15462/15462 [==============================] - 59s 4ms/sample - loss: 3.3011 - accuracy: 0.3420\n",
            "Epoch 35/100\n",
            "15462/15462 [==============================] - 58s 4ms/sample - loss: 3.2211 - accuracy: 0.3590\n",
            "Epoch 36/100\n",
            "15462/15462 [==============================] - 59s 4ms/sample - loss: 3.1461 - accuracy: 0.3791\n",
            "Epoch 37/100\n",
            "15462/15462 [==============================] - 59s 4ms/sample - loss: 3.0823 - accuracy: 0.3899\n",
            "Epoch 38/100\n",
            "15462/15462 [==============================] - 58s 4ms/sample - loss: 3.0059 - accuracy: 0.4084\n",
            "Epoch 39/100\n",
            "15462/15462 [==============================] - 58s 4ms/sample - loss: 2.9210 - accuracy: 0.4263\n",
            "Epoch 40/100\n",
            "15462/15462 [==============================] - 60s 4ms/sample - loss: 2.8453 - accuracy: 0.4453\n",
            "Epoch 41/100\n",
            "15462/15462 [==============================] - 59s 4ms/sample - loss: 2.7927 - accuracy: 0.4551\n",
            "Epoch 42/100\n",
            "15462/15462 [==============================] - 58s 4ms/sample - loss: 2.7403 - accuracy: 0.4668\n",
            "Epoch 43/100\n",
            "15462/15462 [==============================] - 58s 4ms/sample - loss: 2.6644 - accuracy: 0.4827\n",
            "Epoch 44/100\n",
            "15462/15462 [==============================] - 58s 4ms/sample - loss: 2.6045 - accuracy: 0.4983\n",
            "Epoch 45/100\n",
            "15462/15462 [==============================] - 57s 4ms/sample - loss: 2.5511 - accuracy: 0.5108\n",
            "Epoch 46/100\n",
            "15462/15462 [==============================] - 57s 4ms/sample - loss: 2.4773 - accuracy: 0.5319\n",
            "Epoch 47/100\n",
            "15462/15462 [==============================] - 58s 4ms/sample - loss: 2.4302 - accuracy: 0.5382\n",
            "Epoch 48/100\n",
            "15462/15462 [==============================] - 58s 4ms/sample - loss: 2.3871 - accuracy: 0.5490\n",
            "Epoch 49/100\n",
            "15462/15462 [==============================] - 57s 4ms/sample - loss: 2.3243 - accuracy: 0.5663\n",
            "Epoch 50/100\n",
            "15462/15462 [==============================] - 58s 4ms/sample - loss: 2.2655 - accuracy: 0.5819\n",
            "Epoch 51/100\n",
            "15462/15462 [==============================] - 58s 4ms/sample - loss: 2.2275 - accuracy: 0.5871\n",
            "Epoch 52/100\n",
            "15462/15462 [==============================] - 59s 4ms/sample - loss: 2.1908 - accuracy: 0.5919\n",
            "Epoch 53/100\n",
            "15462/15462 [==============================] - 57s 4ms/sample - loss: 2.1470 - accuracy: 0.6031\n",
            "Epoch 54/100\n",
            "15462/15462 [==============================] - 58s 4ms/sample - loss: 2.0911 - accuracy: 0.6162\n",
            "Epoch 55/100\n",
            "15462/15462 [==============================] - 59s 4ms/sample - loss: 2.0583 - accuracy: 0.6239\n",
            "Epoch 56/100\n",
            "15462/15462 [==============================] - 60s 4ms/sample - loss: 2.0180 - accuracy: 0.6317\n",
            "Epoch 57/100\n",
            "15462/15462 [==============================] - 60s 4ms/sample - loss: 1.9754 - accuracy: 0.6422\n",
            "Epoch 58/100\n",
            "15462/15462 [==============================] - 60s 4ms/sample - loss: 1.9417 - accuracy: 0.6474\n",
            "Epoch 59/100\n",
            "15462/15462 [==============================] - 62s 4ms/sample - loss: 1.9150 - accuracy: 0.6524\n",
            "Epoch 60/100\n",
            "15462/15462 [==============================] - 61s 4ms/sample - loss: 1.8753 - accuracy: 0.6617\n",
            "Epoch 61/100\n",
            "15462/15462 [==============================] - 60s 4ms/sample - loss: 1.8440 - accuracy: 0.6688\n",
            "Epoch 62/100\n",
            "15462/15462 [==============================] - 59s 4ms/sample - loss: 1.8122 - accuracy: 0.6765\n",
            "Epoch 63/100\n",
            "15462/15462 [==============================] - 59s 4ms/sample - loss: 1.7698 - accuracy: 0.6887\n",
            "Epoch 64/100\n",
            "15462/15462 [==============================] - 59s 4ms/sample - loss: 1.7490 - accuracy: 0.6920\n",
            "Epoch 65/100\n",
            "15462/15462 [==============================] - 58s 4ms/sample - loss: 1.7202 - accuracy: 0.6952\n",
            "Epoch 66/100\n",
            "15462/15462 [==============================] - 59s 4ms/sample - loss: 1.6981 - accuracy: 0.7020\n",
            "Epoch 67/100\n",
            "15462/15462 [==============================] - 58s 4ms/sample - loss: 1.6581 - accuracy: 0.7075\n",
            "Epoch 68/100\n",
            "15462/15462 [==============================] - 58s 4ms/sample - loss: 1.6337 - accuracy: 0.7120\n",
            "Epoch 69/100\n",
            "15462/15462 [==============================] - 59s 4ms/sample - loss: 1.6073 - accuracy: 0.7210\n",
            "Epoch 70/100\n",
            "15462/15462 [==============================] - 60s 4ms/sample - loss: 1.5983 - accuracy: 0.7196\n",
            "Epoch 71/100\n",
            "15462/15462 [==============================] - 60s 4ms/sample - loss: 1.5817 - accuracy: 0.7239\n",
            "Epoch 72/100\n",
            "15462/15462 [==============================] - 59s 4ms/sample - loss: 1.5544 - accuracy: 0.7262\n",
            "Epoch 73/100\n",
            "15462/15462 [==============================] - 58s 4ms/sample - loss: 1.5214 - accuracy: 0.7370\n",
            "Epoch 74/100\n",
            "15462/15462 [==============================] - 60s 4ms/sample - loss: 1.4972 - accuracy: 0.7422\n",
            "Epoch 75/100\n",
            "15462/15462 [==============================] - 63s 4ms/sample - loss: 1.4883 - accuracy: 0.7429\n",
            "Epoch 76/100\n",
            "15462/15462 [==============================] - 65s 4ms/sample - loss: 1.4649 - accuracy: 0.7448\n",
            "Epoch 77/100\n",
            "15462/15462 [==============================] - 65s 4ms/sample - loss: 1.4459 - accuracy: 0.7503\n",
            "Epoch 78/100\n",
            "15462/15462 [==============================] - 66s 4ms/sample - loss: 1.4314 - accuracy: 0.7519\n",
            "Epoch 79/100\n",
            "15462/15462 [==============================] - 66s 4ms/sample - loss: 1.4074 - accuracy: 0.7612\n",
            "Epoch 80/100\n",
            "15462/15462 [==============================] - 66s 4ms/sample - loss: 1.3876 - accuracy: 0.7622\n",
            "Epoch 81/100\n",
            "15462/15462 [==============================] - 66s 4ms/sample - loss: 1.3752 - accuracy: 0.7654\n",
            "Epoch 82/100\n",
            "15462/15462 [==============================] - 66s 4ms/sample - loss: 1.3595 - accuracy: 0.7659\n",
            "Epoch 83/100\n",
            "15462/15462 [==============================] - 66s 4ms/sample - loss: 1.3406 - accuracy: 0.7689\n",
            "Epoch 84/100\n",
            "15462/15462 [==============================] - 66s 4ms/sample - loss: 1.3431 - accuracy: 0.7655\n",
            "Epoch 85/100\n",
            "15462/15462 [==============================] - 66s 4ms/sample - loss: 1.3311 - accuracy: 0.7701\n",
            "Epoch 86/100\n",
            "15462/15462 [==============================] - 66s 4ms/sample - loss: 1.2960 - accuracy: 0.7753\n",
            "Epoch 87/100\n",
            "15462/15462 [==============================] - 66s 4ms/sample - loss: 1.2788 - accuracy: 0.7814\n",
            "Epoch 88/100\n",
            "15462/15462 [==============================] - 68s 4ms/sample - loss: 1.2593 - accuracy: 0.7859\n",
            "Epoch 89/100\n",
            "15462/15462 [==============================] - 67s 4ms/sample - loss: 1.2552 - accuracy: 0.7854\n",
            "Epoch 90/100\n",
            "15462/15462 [==============================] - 66s 4ms/sample - loss: 1.2541 - accuracy: 0.7831\n",
            "Epoch 91/100\n",
            "15462/15462 [==============================] - 66s 4ms/sample - loss: 1.2432 - accuracy: 0.7850\n",
            "Epoch 92/100\n",
            "15462/15462 [==============================] - 65s 4ms/sample - loss: 1.2377 - accuracy: 0.7863\n",
            "Epoch 93/100\n",
            "15462/15462 [==============================] - 64s 4ms/sample - loss: 1.2179 - accuracy: 0.7897\n",
            "Epoch 94/100\n",
            "15462/15462 [==============================] - 65s 4ms/sample - loss: 1.2145 - accuracy: 0.7908\n",
            "Epoch 95/100\n",
            "15462/15462 [==============================] - 64s 4ms/sample - loss: 1.2079 - accuracy: 0.7886\n",
            "Epoch 96/100\n",
            "15462/15462 [==============================] - 65s 4ms/sample - loss: 1.1822 - accuracy: 0.7950\n",
            "Epoch 97/100\n",
            "15462/15462 [==============================] - 65s 4ms/sample - loss: 1.1604 - accuracy: 0.7978\n",
            "Epoch 98/100\n",
            "15462/15462 [==============================] - 64s 4ms/sample - loss: 1.1616 - accuracy: 0.8009\n",
            "Epoch 99/100\n",
            "15462/15462 [==============================] - 63s 4ms/sample - loss: 1.1409 - accuracy: 0.8050\n",
            "Epoch 100/100\n",
            "15462/15462 [==============================] - 62s 4ms/sample - loss: 1.1329 - accuracy: 0.8084\n"
          ],
          "name": "stdout"
        }
      ]
    },
    {
      "cell_type": "code",
      "metadata": {
        "id": "1fXTEO3GJ282",
        "colab_type": "code",
        "colab": {
          "base_uri": "https://localhost:8080/",
          "height": 545
        },
        "outputId": "74829164-ea76-4b17-f74a-a4dfee6288b8"
      },
      "source": [
        "import matplotlib.pyplot as plt\n",
        "acc = history.history['accuracy']\n",
        "loss = history.history['loss']\n",
        "\n",
        "epochs = range(len(acc))\n",
        "\n",
        "plt.plot(epochs, acc, 'b', label='Training accuracy')\n",
        "plt.title('Training accuracy')\n",
        "plt.grid()\n",
        "plt.figure()\n",
        "\n",
        "plt.plot(epochs, loss, 'b', label='Training Loss')\n",
        "plt.title('Training loss')\n",
        "plt.legend()\n",
        "plt.grid()\n",
        "plt.show()"
      ],
      "execution_count": 9,
      "outputs": [
        {
          "output_type": "display_data",
          "data": {
            "image/png": "[encoded data removed]",
            "text/plain": [
              "<Figure size 432x288 with 1 Axes>"
            ]
          },
          "metadata": {
            "tags": []
          }
        },
        {
          "output_type": "display_data",
          "data": {
            "image/png": "[encoded data removed]",
            "text/plain": [
              "<Figure size 432x288 with 1 Axes>"
            ]
          },
          "metadata": {
            "tags": []
          }
        }
      ]
    },
    {
      "cell_type": "code",
      "metadata": {
        "id": "6Vc6PHgxa6Hm",
        "colab_type": "code",
        "colab": {
          "base_uri": "https://localhost:8080/",
          "height": 54
        },
        "outputId": "a0413725-6e12-47e3-adea-84229270ac29"
      },
      "source": [
        "seed_text = \"Help me Obi Wan Kenobi, you're my only hope\"\n",
        "next_words = 100\n",
        "  \n",
        "for _ in range(next_words):\n",
        "\ttoken_list = tokenizer.texts_to_sequences([seed_text])[0]\n",
        "\ttoken_list = pad_sequences([token_list], maxlen=max_sequence_len-1, padding='pre')\n",
        "\tpredicted = model.predict_classes(token_list, verbose=0)\n",
        "\toutput_word = \"\"\n",
        "\tfor word, index in tokenizer.word_index.items():\n",
        "\t\tif index == predicted:\n",
        "\t\t\toutput_word = word\n",
        "\t\t\tbreak\n",
        "\tseed_text += \" \" + output_word\n",
        "print(seed_text)"
      ],
      "execution_count": 8,
      "outputs": [
        {
          "output_type": "stream",
          "text": [
            "Help me Obi Wan Kenobi, you're my only hope out men away ill ill leaves end ' lend tell to hide thee die true aside tell me dear rhyme friend be told all heart made hence keep good faith directed held held held clearer light light appetite in love leaves friend doth take thee so great bright eye dost grew so quite delighted cured hid so offence luck bearing away true ' live so yet when is my mind ' lend be light held cured cured seen clearer away aside friend away away new rare quite taken grow hid so made seen true end ' live add a winter's\n"
          ],
          "name": "stdout"
        }
      ]
    }
  ]
}